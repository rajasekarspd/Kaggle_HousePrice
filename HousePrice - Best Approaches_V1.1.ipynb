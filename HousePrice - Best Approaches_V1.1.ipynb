{
 "cells": [
  {
   "cell_type": "markdown",
   "metadata": {},
   "source": [
    "## <center> House Price - Best Approach Taken"
   ]
  },
  {
   "cell_type": "code",
   "execution_count": 1,
   "metadata": {},
   "outputs": [
    {
     "data": {
      "text/plain": [
       "'%.4f'"
      ]
     },
     "execution_count": 1,
     "metadata": {},
     "output_type": "execute_result"
    }
   ],
   "source": [
    "#Import packages\n",
    "\n",
    "import pandas as pd\n",
    "import numpy as np\n",
    "import matplotlib.pyplot as plt\n",
    "%matplotlib inline\n",
    "import seaborn as sb\n",
    "\n",
    "import sklearn\n",
    "from sklearn.model_selection import train_test_split, ShuffleSplit, cross_val_score\n",
    "from sklearn.linear_model import Ridge, Lasso, RidgeCV, LassoCV, ElasticNetCV, ElasticNet\n",
    "from sklearn.preprocessing import RobustScaler, StandardScaler\n",
    "from sklearn.metrics import mean_squared_error\n",
    "\n",
    "from scipy import stats\n",
    "from scipy.stats import skew, norm\n",
    "from scipy.special import boxcox1p\n",
    "\n",
    "#Handle warnings\n",
    "import warnings\n",
    "warnings.filterwarnings('ignore')\n",
    "\n",
    "#Set precision to 4 decimals\n",
    "%precision 4"
   ]
  },
  {
   "cell_type": "code",
   "execution_count": 2,
   "metadata": {},
   "outputs": [],
   "source": [
    "#Read dataset\n",
    "df_train = pd.read_csv('data/train.csv')\n",
    "df_test = pd.read_csv('data/test.csv')"
   ]
  },
  {
   "cell_type": "code",
   "execution_count": 3,
   "metadata": {},
   "outputs": [
    {
     "data": {
      "text/html": [
       "<div>\n",
       "<style scoped>\n",
       "    .dataframe tbody tr th:only-of-type {\n",
       "        vertical-align: middle;\n",
       "    }\n",
       "\n",
       "    .dataframe tbody tr th {\n",
       "        vertical-align: top;\n",
       "    }\n",
       "\n",
       "    .dataframe thead th {\n",
       "        text-align: right;\n",
       "    }\n",
       "</style>\n",
       "<table border=\"1\" class=\"dataframe\">\n",
       "  <thead>\n",
       "    <tr style=\"text-align: right;\">\n",
       "      <th></th>\n",
       "      <th>Id</th>\n",
       "      <th>MSSubClass</th>\n",
       "      <th>MSZoning</th>\n",
       "      <th>LotFrontage</th>\n",
       "      <th>LotArea</th>\n",
       "      <th>Street</th>\n",
       "      <th>Alley</th>\n",
       "      <th>LotShape</th>\n",
       "      <th>LandContour</th>\n",
       "      <th>Utilities</th>\n",
       "      <th>...</th>\n",
       "      <th>PoolArea</th>\n",
       "      <th>PoolQC</th>\n",
       "      <th>Fence</th>\n",
       "      <th>MiscFeature</th>\n",
       "      <th>MiscVal</th>\n",
       "      <th>MoSold</th>\n",
       "      <th>YrSold</th>\n",
       "      <th>SaleType</th>\n",
       "      <th>SaleCondition</th>\n",
       "      <th>SalePrice</th>\n",
       "    </tr>\n",
       "  </thead>\n",
       "  <tbody>\n",
       "    <tr>\n",
       "      <td>0</td>\n",
       "      <td>1</td>\n",
       "      <td>60</td>\n",
       "      <td>RL</td>\n",
       "      <td>65.0</td>\n",
       "      <td>8450</td>\n",
       "      <td>Pave</td>\n",
       "      <td>NaN</td>\n",
       "      <td>Reg</td>\n",
       "      <td>Lvl</td>\n",
       "      <td>AllPub</td>\n",
       "      <td>...</td>\n",
       "      <td>0</td>\n",
       "      <td>NaN</td>\n",
       "      <td>NaN</td>\n",
       "      <td>NaN</td>\n",
       "      <td>0</td>\n",
       "      <td>2</td>\n",
       "      <td>2008</td>\n",
       "      <td>WD</td>\n",
       "      <td>Normal</td>\n",
       "      <td>208500</td>\n",
       "    </tr>\n",
       "    <tr>\n",
       "      <td>1</td>\n",
       "      <td>2</td>\n",
       "      <td>20</td>\n",
       "      <td>RL</td>\n",
       "      <td>80.0</td>\n",
       "      <td>9600</td>\n",
       "      <td>Pave</td>\n",
       "      <td>NaN</td>\n",
       "      <td>Reg</td>\n",
       "      <td>Lvl</td>\n",
       "      <td>AllPub</td>\n",
       "      <td>...</td>\n",
       "      <td>0</td>\n",
       "      <td>NaN</td>\n",
       "      <td>NaN</td>\n",
       "      <td>NaN</td>\n",
       "      <td>0</td>\n",
       "      <td>5</td>\n",
       "      <td>2007</td>\n",
       "      <td>WD</td>\n",
       "      <td>Normal</td>\n",
       "      <td>181500</td>\n",
       "    </tr>\n",
       "    <tr>\n",
       "      <td>2</td>\n",
       "      <td>3</td>\n",
       "      <td>60</td>\n",
       "      <td>RL</td>\n",
       "      <td>68.0</td>\n",
       "      <td>11250</td>\n",
       "      <td>Pave</td>\n",
       "      <td>NaN</td>\n",
       "      <td>IR1</td>\n",
       "      <td>Lvl</td>\n",
       "      <td>AllPub</td>\n",
       "      <td>...</td>\n",
       "      <td>0</td>\n",
       "      <td>NaN</td>\n",
       "      <td>NaN</td>\n",
       "      <td>NaN</td>\n",
       "      <td>0</td>\n",
       "      <td>9</td>\n",
       "      <td>2008</td>\n",
       "      <td>WD</td>\n",
       "      <td>Normal</td>\n",
       "      <td>223500</td>\n",
       "    </tr>\n",
       "    <tr>\n",
       "      <td>3</td>\n",
       "      <td>4</td>\n",
       "      <td>70</td>\n",
       "      <td>RL</td>\n",
       "      <td>60.0</td>\n",
       "      <td>9550</td>\n",
       "      <td>Pave</td>\n",
       "      <td>NaN</td>\n",
       "      <td>IR1</td>\n",
       "      <td>Lvl</td>\n",
       "      <td>AllPub</td>\n",
       "      <td>...</td>\n",
       "      <td>0</td>\n",
       "      <td>NaN</td>\n",
       "      <td>NaN</td>\n",
       "      <td>NaN</td>\n",
       "      <td>0</td>\n",
       "      <td>2</td>\n",
       "      <td>2006</td>\n",
       "      <td>WD</td>\n",
       "      <td>Abnorml</td>\n",
       "      <td>140000</td>\n",
       "    </tr>\n",
       "    <tr>\n",
       "      <td>4</td>\n",
       "      <td>5</td>\n",
       "      <td>60</td>\n",
       "      <td>RL</td>\n",
       "      <td>84.0</td>\n",
       "      <td>14260</td>\n",
       "      <td>Pave</td>\n",
       "      <td>NaN</td>\n",
       "      <td>IR1</td>\n",
       "      <td>Lvl</td>\n",
       "      <td>AllPub</td>\n",
       "      <td>...</td>\n",
       "      <td>0</td>\n",
       "      <td>NaN</td>\n",
       "      <td>NaN</td>\n",
       "      <td>NaN</td>\n",
       "      <td>0</td>\n",
       "      <td>12</td>\n",
       "      <td>2008</td>\n",
       "      <td>WD</td>\n",
       "      <td>Normal</td>\n",
       "      <td>250000</td>\n",
       "    </tr>\n",
       "  </tbody>\n",
       "</table>\n",
       "<p>5 rows × 81 columns</p>\n",
       "</div>"
      ],
      "text/plain": [
       "   Id  MSSubClass MSZoning  LotFrontage  LotArea Street Alley LotShape  \\\n",
       "0   1          60       RL         65.0     8450   Pave   NaN      Reg   \n",
       "1   2          20       RL         80.0     9600   Pave   NaN      Reg   \n",
       "2   3          60       RL         68.0    11250   Pave   NaN      IR1   \n",
       "3   4          70       RL         60.0     9550   Pave   NaN      IR1   \n",
       "4   5          60       RL         84.0    14260   Pave   NaN      IR1   \n",
       "\n",
       "  LandContour Utilities  ... PoolArea PoolQC Fence MiscFeature MiscVal MoSold  \\\n",
       "0         Lvl    AllPub  ...        0    NaN   NaN         NaN       0      2   \n",
       "1         Lvl    AllPub  ...        0    NaN   NaN         NaN       0      5   \n",
       "2         Lvl    AllPub  ...        0    NaN   NaN         NaN       0      9   \n",
       "3         Lvl    AllPub  ...        0    NaN   NaN         NaN       0      2   \n",
       "4         Lvl    AllPub  ...        0    NaN   NaN         NaN       0     12   \n",
       "\n",
       "  YrSold  SaleType  SaleCondition  SalePrice  \n",
       "0   2008        WD         Normal     208500  \n",
       "1   2007        WD         Normal     181500  \n",
       "2   2008        WD         Normal     223500  \n",
       "3   2006        WD        Abnorml     140000  \n",
       "4   2008        WD         Normal     250000  \n",
       "\n",
       "[5 rows x 81 columns]"
      ]
     },
     "execution_count": 3,
     "metadata": {},
     "output_type": "execute_result"
    }
   ],
   "source": [
    "#Review train data\n",
    "df_train.head()"
   ]
  },
  {
   "cell_type": "code",
   "execution_count": 4,
   "metadata": {},
   "outputs": [
    {
     "data": {
      "text/html": [
       "<div>\n",
       "<style scoped>\n",
       "    .dataframe tbody tr th:only-of-type {\n",
       "        vertical-align: middle;\n",
       "    }\n",
       "\n",
       "    .dataframe tbody tr th {\n",
       "        vertical-align: top;\n",
       "    }\n",
       "\n",
       "    .dataframe thead th {\n",
       "        text-align: right;\n",
       "    }\n",
       "</style>\n",
       "<table border=\"1\" class=\"dataframe\">\n",
       "  <thead>\n",
       "    <tr style=\"text-align: right;\">\n",
       "      <th></th>\n",
       "      <th>Id</th>\n",
       "      <th>MSSubClass</th>\n",
       "      <th>MSZoning</th>\n",
       "      <th>LotFrontage</th>\n",
       "      <th>LotArea</th>\n",
       "      <th>Street</th>\n",
       "      <th>Alley</th>\n",
       "      <th>LotShape</th>\n",
       "      <th>LandContour</th>\n",
       "      <th>Utilities</th>\n",
       "      <th>...</th>\n",
       "      <th>ScreenPorch</th>\n",
       "      <th>PoolArea</th>\n",
       "      <th>PoolQC</th>\n",
       "      <th>Fence</th>\n",
       "      <th>MiscFeature</th>\n",
       "      <th>MiscVal</th>\n",
       "      <th>MoSold</th>\n",
       "      <th>YrSold</th>\n",
       "      <th>SaleType</th>\n",
       "      <th>SaleCondition</th>\n",
       "    </tr>\n",
       "  </thead>\n",
       "  <tbody>\n",
       "    <tr>\n",
       "      <td>0</td>\n",
       "      <td>1461</td>\n",
       "      <td>20</td>\n",
       "      <td>RH</td>\n",
       "      <td>80.0</td>\n",
       "      <td>11622</td>\n",
       "      <td>Pave</td>\n",
       "      <td>NaN</td>\n",
       "      <td>Reg</td>\n",
       "      <td>Lvl</td>\n",
       "      <td>AllPub</td>\n",
       "      <td>...</td>\n",
       "      <td>120</td>\n",
       "      <td>0</td>\n",
       "      <td>NaN</td>\n",
       "      <td>MnPrv</td>\n",
       "      <td>NaN</td>\n",
       "      <td>0</td>\n",
       "      <td>6</td>\n",
       "      <td>2010</td>\n",
       "      <td>WD</td>\n",
       "      <td>Normal</td>\n",
       "    </tr>\n",
       "    <tr>\n",
       "      <td>1</td>\n",
       "      <td>1462</td>\n",
       "      <td>20</td>\n",
       "      <td>RL</td>\n",
       "      <td>81.0</td>\n",
       "      <td>14267</td>\n",
       "      <td>Pave</td>\n",
       "      <td>NaN</td>\n",
       "      <td>IR1</td>\n",
       "      <td>Lvl</td>\n",
       "      <td>AllPub</td>\n",
       "      <td>...</td>\n",
       "      <td>0</td>\n",
       "      <td>0</td>\n",
       "      <td>NaN</td>\n",
       "      <td>NaN</td>\n",
       "      <td>Gar2</td>\n",
       "      <td>12500</td>\n",
       "      <td>6</td>\n",
       "      <td>2010</td>\n",
       "      <td>WD</td>\n",
       "      <td>Normal</td>\n",
       "    </tr>\n",
       "    <tr>\n",
       "      <td>2</td>\n",
       "      <td>1463</td>\n",
       "      <td>60</td>\n",
       "      <td>RL</td>\n",
       "      <td>74.0</td>\n",
       "      <td>13830</td>\n",
       "      <td>Pave</td>\n",
       "      <td>NaN</td>\n",
       "      <td>IR1</td>\n",
       "      <td>Lvl</td>\n",
       "      <td>AllPub</td>\n",
       "      <td>...</td>\n",
       "      <td>0</td>\n",
       "      <td>0</td>\n",
       "      <td>NaN</td>\n",
       "      <td>MnPrv</td>\n",
       "      <td>NaN</td>\n",
       "      <td>0</td>\n",
       "      <td>3</td>\n",
       "      <td>2010</td>\n",
       "      <td>WD</td>\n",
       "      <td>Normal</td>\n",
       "    </tr>\n",
       "    <tr>\n",
       "      <td>3</td>\n",
       "      <td>1464</td>\n",
       "      <td>60</td>\n",
       "      <td>RL</td>\n",
       "      <td>78.0</td>\n",
       "      <td>9978</td>\n",
       "      <td>Pave</td>\n",
       "      <td>NaN</td>\n",
       "      <td>IR1</td>\n",
       "      <td>Lvl</td>\n",
       "      <td>AllPub</td>\n",
       "      <td>...</td>\n",
       "      <td>0</td>\n",
       "      <td>0</td>\n",
       "      <td>NaN</td>\n",
       "      <td>NaN</td>\n",
       "      <td>NaN</td>\n",
       "      <td>0</td>\n",
       "      <td>6</td>\n",
       "      <td>2010</td>\n",
       "      <td>WD</td>\n",
       "      <td>Normal</td>\n",
       "    </tr>\n",
       "    <tr>\n",
       "      <td>4</td>\n",
       "      <td>1465</td>\n",
       "      <td>120</td>\n",
       "      <td>RL</td>\n",
       "      <td>43.0</td>\n",
       "      <td>5005</td>\n",
       "      <td>Pave</td>\n",
       "      <td>NaN</td>\n",
       "      <td>IR1</td>\n",
       "      <td>HLS</td>\n",
       "      <td>AllPub</td>\n",
       "      <td>...</td>\n",
       "      <td>144</td>\n",
       "      <td>0</td>\n",
       "      <td>NaN</td>\n",
       "      <td>NaN</td>\n",
       "      <td>NaN</td>\n",
       "      <td>0</td>\n",
       "      <td>1</td>\n",
       "      <td>2010</td>\n",
       "      <td>WD</td>\n",
       "      <td>Normal</td>\n",
       "    </tr>\n",
       "  </tbody>\n",
       "</table>\n",
       "<p>5 rows × 80 columns</p>\n",
       "</div>"
      ],
      "text/plain": [
       "     Id  MSSubClass MSZoning  LotFrontage  LotArea Street Alley LotShape  \\\n",
       "0  1461          20       RH         80.0    11622   Pave   NaN      Reg   \n",
       "1  1462          20       RL         81.0    14267   Pave   NaN      IR1   \n",
       "2  1463          60       RL         74.0    13830   Pave   NaN      IR1   \n",
       "3  1464          60       RL         78.0     9978   Pave   NaN      IR1   \n",
       "4  1465         120       RL         43.0     5005   Pave   NaN      IR1   \n",
       "\n",
       "  LandContour Utilities  ... ScreenPorch PoolArea PoolQC  Fence MiscFeature  \\\n",
       "0         Lvl    AllPub  ...         120        0    NaN  MnPrv         NaN   \n",
       "1         Lvl    AllPub  ...           0        0    NaN    NaN        Gar2   \n",
       "2         Lvl    AllPub  ...           0        0    NaN  MnPrv         NaN   \n",
       "3         Lvl    AllPub  ...           0        0    NaN    NaN         NaN   \n",
       "4         HLS    AllPub  ...         144        0    NaN    NaN         NaN   \n",
       "\n",
       "  MiscVal MoSold  YrSold  SaleType  SaleCondition  \n",
       "0       0      6    2010        WD         Normal  \n",
       "1   12500      6    2010        WD         Normal  \n",
       "2       0      3    2010        WD         Normal  \n",
       "3       0      6    2010        WD         Normal  \n",
       "4       0      1    2010        WD         Normal  \n",
       "\n",
       "[5 rows x 80 columns]"
      ]
     },
     "execution_count": 4,
     "metadata": {},
     "output_type": "execute_result"
    }
   ],
   "source": [
    "#Review test data\n",
    "df_test.head()"
   ]
  },
  {
   "cell_type": "code",
   "execution_count": 5,
   "metadata": {
    "scrolled": true
   },
   "outputs": [
    {
     "data": {
      "text/plain": [
       "((1460, 81), (1459, 80))"
      ]
     },
     "execution_count": 5,
     "metadata": {},
     "output_type": "execute_result"
    }
   ],
   "source": [
    "#Review shape of dataset\n",
    "df_train.shape, df_test.shape"
   ]
  },
  {
   "cell_type": "markdown",
   "metadata": {},
   "source": [
    "## Backup the original data as we might mess it up in the process"
   ]
  },
  {
   "cell_type": "code",
   "execution_count": 6,
   "metadata": {},
   "outputs": [],
   "source": [
    "df_train_copy = df_train.copy()\n",
    "df_test_copy = df_test.copy()"
   ]
  },
  {
   "cell_type": "markdown",
   "metadata": {},
   "source": [
    "### Find Null Values"
   ]
  },
  {
   "cell_type": "code",
   "execution_count": 17,
   "metadata": {},
   "outputs": [
    {
     "data": {
      "text/html": [
       "<div>\n",
       "<style scoped>\n",
       "    .dataframe tbody tr th:only-of-type {\n",
       "        vertical-align: middle;\n",
       "    }\n",
       "\n",
       "    .dataframe tbody tr th {\n",
       "        vertical-align: top;\n",
       "    }\n",
       "\n",
       "    .dataframe thead th {\n",
       "        text-align: right;\n",
       "    }\n",
       "</style>\n",
       "<table border=\"1\" class=\"dataframe\">\n",
       "  <thead>\n",
       "    <tr style=\"text-align: right;\">\n",
       "      <th></th>\n",
       "      <th>Total</th>\n",
       "      <th>Percent</th>\n",
       "    </tr>\n",
       "  </thead>\n",
       "  <tbody>\n",
       "    <tr>\n",
       "      <th>PoolQC</th>\n",
       "      <td>1453</td>\n",
       "      <td>99.52</td>\n",
       "    </tr>\n",
       "    <tr>\n",
       "      <th>MiscFeature</th>\n",
       "      <td>1406</td>\n",
       "      <td>96.30</td>\n",
       "    </tr>\n",
       "    <tr>\n",
       "      <th>Alley</th>\n",
       "      <td>1369</td>\n",
       "      <td>93.77</td>\n",
       "    </tr>\n",
       "    <tr>\n",
       "      <th>Fence</th>\n",
       "      <td>1179</td>\n",
       "      <td>80.75</td>\n",
       "    </tr>\n",
       "    <tr>\n",
       "      <th>FireplaceQu</th>\n",
       "      <td>690</td>\n",
       "      <td>47.26</td>\n",
       "    </tr>\n",
       "  </tbody>\n",
       "</table>\n",
       "</div>"
      ],
      "text/plain": [
       "             Total  Percent\n",
       "PoolQC        1453    99.52\n",
       "MiscFeature   1406    96.30\n",
       "Alley         1369    93.77\n",
       "Fence         1179    80.75\n",
       "FireplaceQu    690    47.26"
      ]
     },
     "execution_count": 17,
     "metadata": {},
     "output_type": "execute_result"
    }
   ],
   "source": [
    "totalrows = df_train.shape[0]\n",
    "total = df_train.isnull().sum().sort_values(ascending=False)\n",
    "percent = round(df_train.isnull().sum().sort_values(ascending=False)/totalrows*100,2)\n",
    "train_nas = pd.concat([total, percent], keys=['Total', 'Percent'], axis=1)\n",
    "train_nas.head()"
   ]
  },
  {
   "cell_type": "code",
   "execution_count": 18,
   "metadata": {},
   "outputs": [
    {
     "data": {
      "image/png": "[encoded data removed]",
      "text/plain": [
       "<Figure size 576x576 with 1 Axes>"
      ]
     },
     "metadata": {
      "needs_background": "light"
     },
     "output_type": "display_data"
    }
   ],
   "source": [
    "#Plot target variable\n",
    "plt.figure(figsize=(8,8))\n",
    "sb.distplot(df_train['SalePrice'], fit=norm)\n",
    "plt.title('Review SalePrice Values')\n",
    "plt.show();"
   ]
  },
  {
   "cell_type": "code",
   "execution_count": 28,
   "metadata": {},
   "outputs": [],
   "source": [
    "# plt.figure(figsize=(6,5))\n",
    "stats.probplot(df_train['SalePrice'], dist=norm)\n",
    "plt.show()"
   ]
  },
  {
   "cell_type": "code",
   "execution_count": 35,
   "metadata": {},
   "outputs": [
    {
     "name": "stdout",
     "output_type": "stream",
     "text": [
      "Skewness of Target Variable: 1.8828757597682129\n",
      "Kurtosis of Target Variable: 6.536281860064529\n"
     ]
    }
   ],
   "source": [
    "print('Skewness of Target Variable:', df_train['SalePrice'].skew())\n",
    "print('Kurtosis of Target Variable:', df_train['SalePrice'].kurt())"
   ]
  },
  {
   "cell_type": "markdown",
   "metadata": {},
   "source": [
    "#### Skewness\n",
    "\n",
    "is the degree of distortion from the symmetrical bell curve or the normal curve.\n",
    "So, a symmetrical distribution will have a skewness of \"0\".\n",
    "<br>\n",
    "<li> There are two types of Skewness: Positive and Negative.\n",
    "<li> Positive Skewness(similar to our target variable distribution) means the tail on the right side of the distribution is longer and fatter.\n",
    "<li> In positive Skewness the mean and median will be greater than the mode. This is similar to this dataset. So, in Layman's terms, more houses were sold by less than the average price.\n",
    "<li> Negative Skewness means the tail on the left side of the distribution is longer and fatter.\n",
    "<li> In negative Skewness the mean and median will be less than the mode.\n",
    "<li>Skewness differentiates extreme values in one versus the other tail.\n",
    "<img src=img/Skewness.jpeg>\n",
    "    \n",
    "#### Kurtosis\n",
    "\n",
    "It is the measure of the extreme values(outliers) present in the distribution.\n",
    "<br>\n",
    "<li>There are three types of Kurtosis: Mesokurtic, Leptokurtic and Platykurtic.\n",
    "<li>Mesokurtic is similar to normal curve with the standard value of 3. This means that the extreme values of this distrubution is similar to that of a normal distribution.\n",
    "<li>Leptokurtic Example of leptokurtic distributions are the T-distributions with small degrees of freedom.\n",
    "<li>Platykurtic: Platykurtic describes a particular statistical distribution with thinner tails than a normal distribution. Because this distribution has thin tails, it has fewer outliers (e.g., extreme values three or more standard deviations from the mean) than do mesokurtic and leptokurtic distributions.\n",
    "<img src=img/KurtosisPict.jpg\n",
    "    \n",
    "Credits - https://www.kaggle.com/masumrumi/a-detailed-regression-guide-with-house-pricing"
   ]
  },
  {
   "cell_type": "markdown",
   "metadata": {},
   "source": [
    "### New -------------------------------------------------------------"
   ]
  },
  {
   "cell_type": "code",
   "execution_count": 7,
   "metadata": {},
   "outputs": [
    {
     "data": {
      "text/plain": [
       "Index(['Id', 'MSSubClass', 'LotFrontage', 'LotArea', 'OverallQual',\n",
       "       'OverallCond', 'YearBuilt', 'YearRemodAdd', 'MasVnrArea', 'BsmtFinSF1',\n",
       "       'BsmtFinSF2', 'BsmtUnfSF', 'TotalBsmtSF', '1stFlrSF', '2ndFlrSF',\n",
       "       'LowQualFinSF', 'GrLivArea', 'BsmtFullBath', 'BsmtHalfBath', 'FullBath',\n",
       "       'HalfBath', 'BedroomAbvGr', 'KitchenAbvGr', 'TotRmsAbvGrd',\n",
       "       'Fireplaces', 'GarageYrBlt', 'GarageCars', 'GarageArea', 'WoodDeckSF',\n",
       "       'OpenPorchSF', 'EnclosedPorch', '3SsnPorch', 'ScreenPorch', 'PoolArea',\n",
       "       'MiscVal', 'MoSold', 'YrSold', 'SalePrice'],\n",
       "      dtype='object')"
      ]
     },
     "execution_count": 7,
     "metadata": {},
     "output_type": "execute_result"
    }
   ],
   "source": [
    "#Get numerical features\n",
    "num_feats = df_train.select_dtypes(exclude='object').columns\n",
    "num_feats"
   ]
  },
  {
   "cell_type": "code",
   "execution_count": 15,
   "metadata": {},
   "outputs": [
    {
     "data": {
      "image/png": "[encoded data removed]",
      "text/plain": [
       "<Figure size 1440x72 with 2 Axes>"
      ]
     },
     "metadata": {
      "needs_background": "light"
     },
     "output_type": "display_data"
    }
   ],
   "source": [
    "#Get correlation values\n",
    "numcorr = df_train[num_feats].corr()\n",
    "numcorr = numcorr.sort_values(by='SalePrice', ascending=False).head(1)\n",
    "plt.figure(figsize=(20,1))\n",
    "sb.heatmap(numcorr, annot=True, cmap='RdYlGn', fmt='.2f')\n",
    "plt.show();"
   ]
  },
  {
   "cell_type": "code",
   "execution_count": 20,
   "metadata": {},
   "outputs": [
    {
     "data": {
      "text/html": [
       "<style  type=\"text/css\" >\n",
       "    #T_9c6ecc66_0527_11ea_9cba_005056b46cf2row0_col0 {\n",
       "            background-color:  #00ffff;\n",
       "            color:  #000000;\n",
       "        }    #T_9c6ecc66_0527_11ea_9cba_005056b46cf2row1_col0 {\n",
       "            background-color:  #2affff;\n",
       "            color:  #000000;\n",
       "        }    #T_9c6ecc66_0527_11ea_9cba_005056b46cf2row2_col0 {\n",
       "            background-color:  #3affff;\n",
       "            color:  #000000;\n",
       "        }    #T_9c6ecc66_0527_11ea_9cba_005056b46cf2row3_col0 {\n",
       "            background-color:  #49ffff;\n",
       "            color:  #000000;\n",
       "        }    #T_9c6ecc66_0527_11ea_9cba_005056b46cf2row4_col0 {\n",
       "            background-color:  #4cffff;\n",
       "            color:  #000000;\n",
       "        }    #T_9c6ecc66_0527_11ea_9cba_005056b46cf2row5_col0 {\n",
       "            background-color:  #4effff;\n",
       "            color:  #000000;\n",
       "        }    #T_9c6ecc66_0527_11ea_9cba_005056b46cf2row6_col0 {\n",
       "            background-color:  #4fffff;\n",
       "            color:  #000000;\n",
       "        }    #T_9c6ecc66_0527_11ea_9cba_005056b46cf2row7_col0 {\n",
       "            background-color:  #59ffff;\n",
       "            color:  #000000;\n",
       "        }    #T_9c6ecc66_0527_11ea_9cba_005056b46cf2row8_col0 {\n",
       "            background-color:  #5effff;\n",
       "            color:  #000000;\n",
       "        }    #T_9c6ecc66_0527_11ea_9cba_005056b46cf2row9_col0 {\n",
       "            background-color:  #60ffff;\n",
       "            color:  #000000;\n",
       "        }    #T_9c6ecc66_0527_11ea_9cba_005056b46cf2row10_col0 {\n",
       "            background-color:  #64ffff;\n",
       "            color:  #000000;\n",
       "        }    #T_9c6ecc66_0527_11ea_9cba_005056b46cf2row11_col0 {\n",
       "            background-color:  #67ffff;\n",
       "            color:  #000000;\n",
       "        }    #T_9c6ecc66_0527_11ea_9cba_005056b46cf2row12_col0 {\n",
       "            background-color:  #69ffff;\n",
       "            color:  #000000;\n",
       "        }    #T_9c6ecc66_0527_11ea_9cba_005056b46cf2row13_col0 {\n",
       "            background-color:  #6cffff;\n",
       "            color:  #000000;\n",
       "        }    #T_9c6ecc66_0527_11ea_9cba_005056b46cf2row14_col0 {\n",
       "            background-color:  #7cffff;\n",
       "            color:  #000000;\n",
       "        }    #T_9c6ecc66_0527_11ea_9cba_005056b46cf2row15_col0 {\n",
       "            background-color:  #83ffff;\n",
       "            color:  #000000;\n",
       "        }    #T_9c6ecc66_0527_11ea_9cba_005056b46cf2row16_col0 {\n",
       "            background-color:  #89ffff;\n",
       "            color:  #000000;\n",
       "        }    #T_9c6ecc66_0527_11ea_9cba_005056b46cf2row17_col0 {\n",
       "            background-color:  #8affff;\n",
       "            color:  #000000;\n",
       "        }    #T_9c6ecc66_0527_11ea_9cba_005056b46cf2row18_col0 {\n",
       "            background-color:  #8bffff;\n",
       "            color:  #000000;\n",
       "        }    #T_9c6ecc66_0527_11ea_9cba_005056b46cf2row19_col0 {\n",
       "            background-color:  #91ffff;\n",
       "            color:  #000000;\n",
       "        }    #T_9c6ecc66_0527_11ea_9cba_005056b46cf2row20_col0 {\n",
       "            background-color:  #94ffff;\n",
       "            color:  #000000;\n",
       "        }    #T_9c6ecc66_0527_11ea_9cba_005056b46cf2row21_col0 {\n",
       "            background-color:  #9dffff;\n",
       "            color:  #000000;\n",
       "        }    #T_9c6ecc66_0527_11ea_9cba_005056b46cf2row22_col0 {\n",
       "            background-color:  #9fffff;\n",
       "            color:  #000000;\n",
       "        }    #T_9c6ecc66_0527_11ea_9cba_005056b46cf2row23_col0 {\n",
       "            background-color:  #a8ffff;\n",
       "            color:  #000000;\n",
       "        }    #T_9c6ecc66_0527_11ea_9cba_005056b46cf2row24_col0 {\n",
       "            background-color:  #b4ffff;\n",
       "            color:  #000000;\n",
       "        }    #T_9c6ecc66_0527_11ea_9cba_005056b46cf2row25_col0 {\n",
       "            background-color:  #b8ffff;\n",
       "            color:  #000000;\n",
       "        }    #T_9c6ecc66_0527_11ea_9cba_005056b46cf2row26_col0 {\n",
       "            background-color:  #c1ffff;\n",
       "            color:  #000000;\n",
       "        }    #T_9c6ecc66_0527_11ea_9cba_005056b46cf2row27_col0 {\n",
       "            background-color:  #c2ffff;\n",
       "            color:  #000000;\n",
       "        }    #T_9c6ecc66_0527_11ea_9cba_005056b46cf2row28_col0 {\n",
       "            background-color:  #ccffff;\n",
       "            color:  #000000;\n",
       "        }    #T_9c6ecc66_0527_11ea_9cba_005056b46cf2row29_col0 {\n",
       "            background-color:  #ceffff;\n",
       "            color:  #000000;\n",
       "        }    #T_9c6ecc66_0527_11ea_9cba_005056b46cf2row30_col0 {\n",
       "            background-color:  #cfffff;\n",
       "            color:  #000000;\n",
       "        }    #T_9c6ecc66_0527_11ea_9cba_005056b46cf2row31_col0 {\n",
       "            background-color:  #cfffff;\n",
       "            color:  #000000;\n",
       "        }    #T_9c6ecc66_0527_11ea_9cba_005056b46cf2row32_col0 {\n",
       "            background-color:  #d0ffff;\n",
       "            color:  #000000;\n",
       "        }    #T_9c6ecc66_0527_11ea_9cba_005056b46cf2row33_col0 {\n",
       "            background-color:  #d0ffff;\n",
       "            color:  #000000;\n",
       "        }    #T_9c6ecc66_0527_11ea_9cba_005056b46cf2row34_col0 {\n",
       "            background-color:  #daffff;\n",
       "            color:  #000000;\n",
       "        }    #T_9c6ecc66_0527_11ea_9cba_005056b46cf2row35_col0 {\n",
       "            background-color:  #dcffff;\n",
       "            color:  #000000;\n",
       "        }    #T_9c6ecc66_0527_11ea_9cba_005056b46cf2row36_col0 {\n",
       "            background-color:  #e5ffff;\n",
       "            color:  #000000;\n",
       "        }    #T_9c6ecc66_0527_11ea_9cba_005056b46cf2row37_col0 {\n",
       "            background-color:  #e5ffff;\n",
       "            color:  #000000;\n",
       "        }</style><table id=\"T_9c6ecc66_0527_11ea_9cba_005056b46cf2\" ><thead>    <tr>        <th class=\"blank level0\" ></th>        <th class=\"col_heading level0 col0\" >SalePrice</th>    </tr></thead><tbody>\n",
       "                <tr>\n",
       "                        <th id=\"T_9c6ecc66_0527_11ea_9cba_005056b46cf2level0_row0\" class=\"row_heading level0 row0\" >SalePrice</th>\n",
       "                        <td id=\"T_9c6ecc66_0527_11ea_9cba_005056b46cf2row0_col0\" class=\"data row0 col0\" >1</td>\n",
       "            </tr>\n",
       "            <tr>\n",
       "                        <th id=\"T_9c6ecc66_0527_11ea_9cba_005056b46cf2level0_row1\" class=\"row_heading level0 row1\" >OverallQual</th>\n",
       "                        <td id=\"T_9c6ecc66_0527_11ea_9cba_005056b46cf2row1_col0\" class=\"data row1 col0\" >0.790982</td>\n",
       "            </tr>\n",
       "            <tr>\n",
       "                        <th id=\"T_9c6ecc66_0527_11ea_9cba_005056b46cf2level0_row2\" class=\"row_heading level0 row2\" >GrLivArea</th>\n",
       "                        <td id=\"T_9c6ecc66_0527_11ea_9cba_005056b46cf2row2_col0\" class=\"data row2 col0\" >0.708624</td>\n",
       "            </tr>\n",
       "            <tr>\n",
       "                        <th id=\"T_9c6ecc66_0527_11ea_9cba_005056b46cf2level0_row3\" class=\"row_heading level0 row3\" >GarageCars</th>\n",
       "                        <td id=\"T_9c6ecc66_0527_11ea_9cba_005056b46cf2row3_col0\" class=\"data row3 col0\" >0.640409</td>\n",
       "            </tr>\n",
       "            <tr>\n",
       "                        <th id=\"T_9c6ecc66_0527_11ea_9cba_005056b46cf2level0_row4\" class=\"row_heading level0 row4\" >GarageArea</th>\n",
       "                        <td id=\"T_9c6ecc66_0527_11ea_9cba_005056b46cf2row4_col0\" class=\"data row4 col0\" >0.623431</td>\n",
       "            </tr>\n",
       "            <tr>\n",
       "                        <th id=\"T_9c6ecc66_0527_11ea_9cba_005056b46cf2level0_row5\" class=\"row_heading level0 row5\" >TotalBsmtSF</th>\n",
       "                        <td id=\"T_9c6ecc66_0527_11ea_9cba_005056b46cf2row5_col0\" class=\"data row5 col0\" >0.613581</td>\n",
       "            </tr>\n",
       "            <tr>\n",
       "                        <th id=\"T_9c6ecc66_0527_11ea_9cba_005056b46cf2level0_row6\" class=\"row_heading level0 row6\" >1stFlrSF</th>\n",
       "                        <td id=\"T_9c6ecc66_0527_11ea_9cba_005056b46cf2row6_col0\" class=\"data row6 col0\" >0.605852</td>\n",
       "            </tr>\n",
       "            <tr>\n",
       "                        <th id=\"T_9c6ecc66_0527_11ea_9cba_005056b46cf2level0_row7\" class=\"row_heading level0 row7\" >FullBath</th>\n",
       "                        <td id=\"T_9c6ecc66_0527_11ea_9cba_005056b46cf2row7_col0\" class=\"data row7 col0\" >0.560664</td>\n",
       "            </tr>\n",
       "            <tr>\n",
       "                        <th id=\"T_9c6ecc66_0527_11ea_9cba_005056b46cf2level0_row8\" class=\"row_heading level0 row8\" >TotRmsAbvGrd</th>\n",
       "                        <td id=\"T_9c6ecc66_0527_11ea_9cba_005056b46cf2row8_col0\" class=\"data row8 col0\" >0.533723</td>\n",
       "            </tr>\n",
       "            <tr>\n",
       "                        <th id=\"T_9c6ecc66_0527_11ea_9cba_005056b46cf2level0_row9\" class=\"row_heading level0 row9\" >YearBuilt</th>\n",
       "                        <td id=\"T_9c6ecc66_0527_11ea_9cba_005056b46cf2row9_col0\" class=\"data row9 col0\" >0.522897</td>\n",
       "            </tr>\n",
       "            <tr>\n",
       "                        <th id=\"T_9c6ecc66_0527_11ea_9cba_005056b46cf2level0_row10\" class=\"row_heading level0 row10\" >YearRemodAdd</th>\n",
       "                        <td id=\"T_9c6ecc66_0527_11ea_9cba_005056b46cf2row10_col0\" class=\"data row10 col0\" >0.507101</td>\n",
       "            </tr>\n",
       "            <tr>\n",
       "                        <th id=\"T_9c6ecc66_0527_11ea_9cba_005056b46cf2level0_row11\" class=\"row_heading level0 row11\" >GarageYrBlt</th>\n",
       "                        <td id=\"T_9c6ecc66_0527_11ea_9cba_005056b46cf2row11_col0\" class=\"data row11 col0\" >0.486362</td>\n",
       "            </tr>\n",
       "            <tr>\n",
       "                        <th id=\"T_9c6ecc66_0527_11ea_9cba_005056b46cf2level0_row12\" class=\"row_heading level0 row12\" >MasVnrArea</th>\n",
       "                        <td id=\"T_9c6ecc66_0527_11ea_9cba_005056b46cf2row12_col0\" class=\"data row12 col0\" >0.477493</td>\n",
       "            </tr>\n",
       "            <tr>\n",
       "                        <th id=\"T_9c6ecc66_0527_11ea_9cba_005056b46cf2level0_row13\" class=\"row_heading level0 row13\" >Fireplaces</th>\n",
       "                        <td id=\"T_9c6ecc66_0527_11ea_9cba_005056b46cf2row13_col0\" class=\"data row13 col0\" >0.466929</td>\n",
       "            </tr>\n",
       "            <tr>\n",
       "                        <th id=\"T_9c6ecc66_0527_11ea_9cba_005056b46cf2level0_row14\" class=\"row_heading level0 row14\" >BsmtFinSF1</th>\n",
       "                        <td id=\"T_9c6ecc66_0527_11ea_9cba_005056b46cf2row14_col0\" class=\"data row14 col0\" >0.38642</td>\n",
       "            </tr>\n",
       "            <tr>\n",
       "                        <th id=\"T_9c6ecc66_0527_11ea_9cba_005056b46cf2level0_row15\" class=\"row_heading level0 row15\" >LotFrontage</th>\n",
       "                        <td id=\"T_9c6ecc66_0527_11ea_9cba_005056b46cf2row15_col0\" class=\"data row15 col0\" >0.351799</td>\n",
       "            </tr>\n",
       "            <tr>\n",
       "                        <th id=\"T_9c6ecc66_0527_11ea_9cba_005056b46cf2level0_row16\" class=\"row_heading level0 row16\" >WoodDeckSF</th>\n",
       "                        <td id=\"T_9c6ecc66_0527_11ea_9cba_005056b46cf2row16_col0\" class=\"data row16 col0\" >0.324413</td>\n",
       "            </tr>\n",
       "            <tr>\n",
       "                        <th id=\"T_9c6ecc66_0527_11ea_9cba_005056b46cf2level0_row17\" class=\"row_heading level0 row17\" >2ndFlrSF</th>\n",
       "                        <td id=\"T_9c6ecc66_0527_11ea_9cba_005056b46cf2row17_col0\" class=\"data row17 col0\" >0.319334</td>\n",
       "            </tr>\n",
       "            <tr>\n",
       "                        <th id=\"T_9c6ecc66_0527_11ea_9cba_005056b46cf2level0_row18\" class=\"row_heading level0 row18\" >OpenPorchSF</th>\n",
       "                        <td id=\"T_9c6ecc66_0527_11ea_9cba_005056b46cf2row18_col0\" class=\"data row18 col0\" >0.315856</td>\n",
       "            </tr>\n",
       "            <tr>\n",
       "                        <th id=\"T_9c6ecc66_0527_11ea_9cba_005056b46cf2level0_row19\" class=\"row_heading level0 row19\" >HalfBath</th>\n",
       "                        <td id=\"T_9c6ecc66_0527_11ea_9cba_005056b46cf2row19_col0\" class=\"data row19 col0\" >0.284108</td>\n",
       "            </tr>\n",
       "            <tr>\n",
       "                        <th id=\"T_9c6ecc66_0527_11ea_9cba_005056b46cf2level0_row20\" class=\"row_heading level0 row20\" >LotArea</th>\n",
       "                        <td id=\"T_9c6ecc66_0527_11ea_9cba_005056b46cf2row20_col0\" class=\"data row20 col0\" >0.263843</td>\n",
       "            </tr>\n",
       "            <tr>\n",
       "                        <th id=\"T_9c6ecc66_0527_11ea_9cba_005056b46cf2level0_row21\" class=\"row_heading level0 row21\" >BsmtFullBath</th>\n",
       "                        <td id=\"T_9c6ecc66_0527_11ea_9cba_005056b46cf2row21_col0\" class=\"data row21 col0\" >0.227122</td>\n",
       "            </tr>\n",
       "            <tr>\n",
       "                        <th id=\"T_9c6ecc66_0527_11ea_9cba_005056b46cf2level0_row22\" class=\"row_heading level0 row22\" >BsmtUnfSF</th>\n",
       "                        <td id=\"T_9c6ecc66_0527_11ea_9cba_005056b46cf2row22_col0\" class=\"data row22 col0\" >0.214479</td>\n",
       "            </tr>\n",
       "            <tr>\n",
       "                        <th id=\"T_9c6ecc66_0527_11ea_9cba_005056b46cf2level0_row23\" class=\"row_heading level0 row23\" >BedroomAbvGr</th>\n",
       "                        <td id=\"T_9c6ecc66_0527_11ea_9cba_005056b46cf2row23_col0\" class=\"data row23 col0\" >0.168213</td>\n",
       "            </tr>\n",
       "            <tr>\n",
       "                        <th id=\"T_9c6ecc66_0527_11ea_9cba_005056b46cf2level0_row24\" class=\"row_heading level0 row24\" >ScreenPorch</th>\n",
       "                        <td id=\"T_9c6ecc66_0527_11ea_9cba_005056b46cf2row24_col0\" class=\"data row24 col0\" >0.111447</td>\n",
       "            </tr>\n",
       "            <tr>\n",
       "                        <th id=\"T_9c6ecc66_0527_11ea_9cba_005056b46cf2level0_row25\" class=\"row_heading level0 row25\" >PoolArea</th>\n",
       "                        <td id=\"T_9c6ecc66_0527_11ea_9cba_005056b46cf2row25_col0\" class=\"data row25 col0\" >0.0924035</td>\n",
       "            </tr>\n",
       "            <tr>\n",
       "                        <th id=\"T_9c6ecc66_0527_11ea_9cba_005056b46cf2level0_row26\" class=\"row_heading level0 row26\" >MoSold</th>\n",
       "                        <td id=\"T_9c6ecc66_0527_11ea_9cba_005056b46cf2row26_col0\" class=\"data row26 col0\" >0.0464322</td>\n",
       "            </tr>\n",
       "            <tr>\n",
       "                        <th id=\"T_9c6ecc66_0527_11ea_9cba_005056b46cf2level0_row27\" class=\"row_heading level0 row27\" >3SsnPorch</th>\n",
       "                        <td id=\"T_9c6ecc66_0527_11ea_9cba_005056b46cf2row27_col0\" class=\"data row27 col0\" >0.0445837</td>\n",
       "            </tr>\n",
       "            <tr>\n",
       "                        <th id=\"T_9c6ecc66_0527_11ea_9cba_005056b46cf2level0_row28\" class=\"row_heading level0 row28\" >BsmtFinSF2</th>\n",
       "                        <td id=\"T_9c6ecc66_0527_11ea_9cba_005056b46cf2row28_col0\" class=\"data row28 col0\" >-0.0113781</td>\n",
       "            </tr>\n",
       "            <tr>\n",
       "                        <th id=\"T_9c6ecc66_0527_11ea_9cba_005056b46cf2level0_row29\" class=\"row_heading level0 row29\" >BsmtHalfBath</th>\n",
       "                        <td id=\"T_9c6ecc66_0527_11ea_9cba_005056b46cf2row29_col0\" class=\"data row29 col0\" >-0.0168442</td>\n",
       "            </tr>\n",
       "            <tr>\n",
       "                        <th id=\"T_9c6ecc66_0527_11ea_9cba_005056b46cf2level0_row30\" class=\"row_heading level0 row30\" >MiscVal</th>\n",
       "                        <td id=\"T_9c6ecc66_0527_11ea_9cba_005056b46cf2row30_col0\" class=\"data row30 col0\" >-0.0211896</td>\n",
       "            </tr>\n",
       "            <tr>\n",
       "                        <th id=\"T_9c6ecc66_0527_11ea_9cba_005056b46cf2level0_row31\" class=\"row_heading level0 row31\" >Id</th>\n",
       "                        <td id=\"T_9c6ecc66_0527_11ea_9cba_005056b46cf2row31_col0\" class=\"data row31 col0\" >-0.0219167</td>\n",
       "            </tr>\n",
       "            <tr>\n",
       "                        <th id=\"T_9c6ecc66_0527_11ea_9cba_005056b46cf2level0_row32\" class=\"row_heading level0 row32\" >LowQualFinSF</th>\n",
       "                        <td id=\"T_9c6ecc66_0527_11ea_9cba_005056b46cf2row32_col0\" class=\"data row32 col0\" >-0.0256061</td>\n",
       "            </tr>\n",
       "            <tr>\n",
       "                        <th id=\"T_9c6ecc66_0527_11ea_9cba_005056b46cf2level0_row33\" class=\"row_heading level0 row33\" >YrSold</th>\n",
       "                        <td id=\"T_9c6ecc66_0527_11ea_9cba_005056b46cf2row33_col0\" class=\"data row33 col0\" >-0.0289226</td>\n",
       "            </tr>\n",
       "            <tr>\n",
       "                        <th id=\"T_9c6ecc66_0527_11ea_9cba_005056b46cf2level0_row34\" class=\"row_heading level0 row34\" >OverallCond</th>\n",
       "                        <td id=\"T_9c6ecc66_0527_11ea_9cba_005056b46cf2row34_col0\" class=\"data row34 col0\" >-0.0778559</td>\n",
       "            </tr>\n",
       "            <tr>\n",
       "                        <th id=\"T_9c6ecc66_0527_11ea_9cba_005056b46cf2level0_row35\" class=\"row_heading level0 row35\" >MSSubClass</th>\n",
       "                        <td id=\"T_9c6ecc66_0527_11ea_9cba_005056b46cf2row35_col0\" class=\"data row35 col0\" >-0.0842841</td>\n",
       "            </tr>\n",
       "            <tr>\n",
       "                        <th id=\"T_9c6ecc66_0527_11ea_9cba_005056b46cf2level0_row36\" class=\"row_heading level0 row36\" >EnclosedPorch</th>\n",
       "                        <td id=\"T_9c6ecc66_0527_11ea_9cba_005056b46cf2row36_col0\" class=\"data row36 col0\" >-0.128578</td>\n",
       "            </tr>\n",
       "            <tr>\n",
       "                        <th id=\"T_9c6ecc66_0527_11ea_9cba_005056b46cf2level0_row37\" class=\"row_heading level0 row37\" >KitchenAbvGr</th>\n",
       "                        <td id=\"T_9c6ecc66_0527_11ea_9cba_005056b46cf2row37_col0\" class=\"data row37 col0\" >-0.135907</td>\n",
       "            </tr>\n",
       "    </tbody></table>"
      ],
      "text/plain": [
       "<pandas.io.formats.style.Styler at 0x20bf5f5d6a0>"
      ]
     },
     "execution_count": 20,
     "metadata": {},
     "output_type": "execute_result"
    }
   ],
   "source": [
    "#Get features co-relation\n",
    "numcorr = df_train[num_feats].corr()\n",
    "\n",
    "#Sort by target and convert to frame\n",
    "numcorr = numcorr['SalePrice'].sort_values(ascending=False).to_frame()\n",
    "\n",
    "#Define background palate\n",
    "cm = sb.light_palette('cyan', as_cmap=True)\n",
    "\n",
    "#Apply gradient\n",
    "numcorr.style.background_gradient(cmap = cm)"
   ]
  },
  {
   "cell_type": "markdown",
   "metadata": {},
   "source": [
    "## Scaling"
   ]
  },
  {
   "cell_type": "code",
   "execution_count": null,
   "metadata": {},
   "outputs": [],
   "source": [
    "from sklearn.preprocessing import RobustScaler\n",
    "scaler= RobustScaler()\n",
    "# transform \"x_train\"\n",
    "# x_train = scaler.fit_transform(x_train)\n",
    "# transform \"x_test\"\n",
    "# x_test = scaler.transform(x_test)\n",
    "#Transform the test set\n",
    "# X_test= scaler.transform(Test)"
   ]
  },
  {
   "cell_type": "markdown",
   "metadata": {},
   "source": [
    "## Model Building"
   ]
  },
  {
   "cell_type": "code",
   "execution_count": 22,
   "metadata": {},
   "outputs": [],
   "source": [
    "#Define Train and Test data\n",
    "target = df_train['SalePrice'].values\n",
    "target_copy = target"
   ]
  },
  {
   "cell_type": "code",
   "execution_count": 23,
   "metadata": {},
   "outputs": [],
   "source": [
    "test_id = df_test['Id'].values"
   ]
  },
  {
   "cell_type": "code",
   "execution_count": 24,
   "metadata": {},
   "outputs": [
    {
     "data": {
      "text/plain": [
       "(1460, 81)"
      ]
     },
     "execution_count": 24,
     "metadata": {},
     "output_type": "execute_result"
    }
   ],
   "source": [
    "df_train.shape"
   ]
  },
  {
   "cell_type": "code",
   "execution_count": 25,
   "metadata": {},
   "outputs": [
    {
     "data": {
      "text/plain": [
       "(1460, 79)"
      ]
     },
     "execution_count": 25,
     "metadata": {},
     "output_type": "execute_result"
    }
   ],
   "source": [
    "#Remove target and Id col from train as they are not required\n",
    "dcols = ['SalePrice', 'Id']\n",
    "df_train.drop(dcols, inplace=True, axis=1)\n",
    "df_train.shape"
   ]
  },
  {
   "cell_type": "code",
   "execution_count": 36,
   "metadata": {},
   "outputs": [],
   "source": [
    "#Process data accordingly\n",
    "num_feats = df_train.select_dtypes(exclude = 'object').columns\n",
    "catg_feats = df_train.dtypes[df_train.dtypes == 'object'].index"
   ]
  },
  {
   "cell_type": "code",
   "execution_count": 68,
   "metadata": {},
   "outputs": [],
   "source": [
    "#Creating a copy of training data\n",
    "training_data = df_train.copy()"
   ]
  },
  {
   "cell_type": "code",
   "execution_count": 83,
   "metadata": {},
   "outputs": [],
   "source": [
    "from sklearn.impute import SimpleImputer\n",
    "num_im = SimpleImputer(missing_values=np.nan, strategy='mean')\n",
    "cat_im = SimpleImputer(missing_values=np.nan, strategy='most_frequent')"
   ]
  },
  {
   "cell_type": "code",
   "execution_count": 79,
   "metadata": {},
   "outputs": [],
   "source": [
    "#Handle numerical nulls\n",
    "training_data[num_feats] =  num_im.fit_transform(training_data[num_feats])"
   ]
  },
  {
   "cell_type": "code",
   "execution_count": 84,
   "metadata": {},
   "outputs": [],
   "source": [
    "#Handle Categorical nulls\n",
    "training_data[catg_feats] = cat_im.fit_transform(training_data[catg_feats])"
   ]
  },
  {
   "cell_type": "code",
   "execution_count": 86,
   "metadata": {},
   "outputs": [
    {
     "data": {
      "text/plain": [
       "False"
      ]
     },
     "execution_count": 86,
     "metadata": {},
     "output_type": "execute_result"
    }
   ],
   "source": [
    "training_data.isnull().sum().any()"
   ]
  },
  {
   "cell_type": "code",
   "execution_count": 87,
   "metadata": {},
   "outputs": [
    {
     "data": {
      "text/plain": [
       "((1460, 79), (1460, 288))"
      ]
     },
     "execution_count": 87,
     "metadata": {},
     "output_type": "execute_result"
    }
   ],
   "source": [
    "training_data = pd.get_dummies(training_data)\n",
    "df_train.shape, training_data.shape"
   ]
  },
  {
   "cell_type": "code",
   "execution_count": 88,
   "metadata": {},
   "outputs": [],
   "source": [
    "x_train, x_test, y_train, y_test = train_test_split(training_data, target, test_size=0.33, random_state=42)"
   ]
  },
  {
   "cell_type": "code",
   "execution_count": 89,
   "metadata": {},
   "outputs": [
    {
     "name": "stdout",
     "output_type": "stream",
     "text": [
      "Length of Training Set: (978, 288)\n",
      "Length of Test Set: (482, 288)\n"
     ]
    }
   ],
   "source": [
    "#Review train and test set size\n",
    "print('Length of Training Set:', x_train.shape)\n",
    "print('Length of Test Set:', x_test.shape)"
   ]
  },
  {
   "cell_type": "code",
   "execution_count": 90,
   "metadata": {},
   "outputs": [],
   "source": [
    "#Scale data\n",
    "scaler = RobustScaler()\n",
    "x_train = scaler.fit_transform(x_train)\n",
    "x_test = scaler.transform(x_test)"
   ]
  },
  {
   "cell_type": "code",
   "execution_count": 91,
   "metadata": {},
   "outputs": [],
   "source": [
    "#Alpha for Ridge and Lasso\n",
    "parameters = {'alpha':[x for x in range(1,101)]} #For Ridge\n",
    "parameters = {'alpha':[0.0001,0.0009,0.001,0.002,0.003,0.01,0.1,1,10,100]} #For Lasso"
   ]
  },
  {
   "cell_type": "code",
   "execution_count": 95,
   "metadata": {},
   "outputs": [],
   "source": [
    "regressor = LassoCV(alphas=[0.0001,0.0009,0.001,0.002,0.003,0.01,0.1,1,10,100], cv=5, random_state=42, n_jobs=-1)"
   ]
  },
  {
   "cell_type": "code",
   "execution_count": 96,
   "metadata": {},
   "outputs": [
    {
     "data": {
      "text/plain": [
       "LassoCV(alphas=[0.0001, 0.0009, 0.001, 0.002, 0.003, 0.01, 0.1, 1, 10, 100],\n",
       "        copy_X=True, cv=5, eps=0.001, fit_intercept=True, max_iter=1000,\n",
       "        n_alphas=100, n_jobs=-1, normalize=False, positive=False,\n",
       "        precompute='auto', random_state=42, selection='cyclic', tol=0.0001,\n",
       "        verbose=False)"
      ]
     },
     "execution_count": 96,
     "metadata": {},
     "output_type": "execute_result"
    }
   ],
   "source": [
    "regressor.fit(x_train, y_train)"
   ]
  },
  {
   "cell_type": "code",
   "execution_count": 97,
   "metadata": {},
   "outputs": [
    {
     "data": {
      "text/plain": [
       "100.0"
      ]
     },
     "execution_count": 97,
     "metadata": {},
     "output_type": "execute_result"
    }
   ],
   "source": [
    "regressor.alpha_"
   ]
  },
  {
   "cell_type": "code",
   "execution_count": 103,
   "metadata": {},
   "outputs": [
    {
     "data": {
      "image/png": "[encoded data removed]",
      "text/plain": [
       "<Figure size 576x720 with 1 Axes>"
      ]
     },
     "metadata": {
      "needs_background": "light"
     },
     "output_type": "display_data"
    }
   ],
   "source": [
    "model_coef = pd.Series(data = regressor.coef_, index=training_data.columns)\n",
    "df_coef = pd.concat([model_coef.sort_values(ascending=False).tail(10), model_coef.sort_values(ascending=False).head(10)])\n",
    "plt.figure(figsize=(8, 10))\n",
    "df_coef.plot(kind='barh')\n",
    "plt.show();"
   ]
  },
  {
   "cell_type": "markdown",
   "metadata": {},
   "source": [
    "### ElasticNet Model"
   ]
  },
  {
   "cell_type": "code",
   "execution_count": null,
   "metadata": {},
   "outputs": [],
   "source": [
    "from sklearn.linear_model import ElasticNetCV\n",
    "\n",
    "#alphas = [10,1,0.1,0.01,0.001,0.002,0.003,0.004,0.005,0.00054255]\n",
    "#l1ratio = [0.1, 0.3,0.5, 0.9, 0.95, 0.99, 1]\n",
    "\n",
    "#elastic_cv = ElasticNetCV(cv=5, max_iter=1e7, alphas=alphas,  l1_ratio=l1ratio)\n",
    "\n",
    "#elasticmod = elastic_cv.fit(x_train, y_train.ravel())\n",
    "#ela_pred=elasticmod.predict(x_test)\n",
    "#print('Root Mean Square Error test = ' + str(math.sqrt(sklm.mean_squared_error(y_test, ela_pred))))\n",
    "#print(elastic_cv.alpha_)"
   ]
  },
  {
   "cell_type": "markdown",
   "metadata": {},
   "source": [
    "### XGBRegressor"
   ]
  },
  {
   "cell_type": "code",
   "execution_count": null,
   "metadata": {},
   "outputs": [],
   "source": [
    "from xgboost.sklearn import XGBRegressor\n",
    "\n",
    "#xg_reg = XGBRegressor()\n",
    "#xgparam_grid= {'learning_rate' : [0.01],'n_estimators':[2000, 3460, 4000],\n",
    "#                                     'max_depth':[3], 'min_child_weight':[0,3,5],\n",
    "#                                     'colsample_bytree':[0.5,0.7],\n",
    "#                                     'reg_alpha':[0.0001,0.001,0.01,0.1,10,100],\n",
    "#                                    'reg_lambda':[1,0.01,0.8,0.001,0.0001]}\n",
    "#\n",
    "#xg_grid=GridSearchCV(xg_reg, param_grid=xgparam_grid, cv=5, scoring='neg_mean_squared_error', n_jobs=-1)\n",
    "#xg_grid.fit(x_train,y_train)\n",
    "#print(xg_grid.best_estimator_)\n",
    "#print(xg_grid.best_score_)"
   ]
  },
  {
   "cell_type": "markdown",
   "metadata": {},
   "source": [
    "### Xtra Trees Regressor"
   ]
  },
  {
   "cell_type": "code",
   "execution_count": null,
   "metadata": {},
   "outputs": [],
   "source": [
    "from sklearn.ensemble import ExtraTreesRegressor\n",
    "ex_reg=ExtraTreesRegressor(n_estimators=2000, max_depth=20)"
   ]
  },
  {
   "cell_type": "markdown",
   "metadata": {},
   "source": [
    "### Voting Regressor"
   ]
  },
  {
   "cell_type": "code",
   "execution_count": null,
   "metadata": {},
   "outputs": [],
   "source": [
    "from sklearn.ensemble import VotingRegressor\n",
    "\n",
    "vote_mod = VotingRegressor([('Ridge', ridge_mod), ('Lasso', lasso_mod), ('Elastic', elastic_cv), ('XGBRegressor', xgb)])\n",
    "vote= vote_mod.fit(x_train, y_train.ravel())\n",
    "vote_pred=vote.predict(x_test)"
   ]
  },
  {
   "cell_type": "markdown",
   "metadata": {},
   "source": [
    "### Stacking Regressor"
   ]
  },
  {
   "cell_type": "code",
   "execution_count": null,
   "metadata": {},
   "outputs": [],
   "source": [
    "from mlxtend.regressor import StackingRegressor\n",
    "\n",
    "\n",
    "stregr = StackingRegressor(regressors=[elastic_cv,ridge_mod, lasso_mod, vote_mod], \n",
    "                           meta_regressor=xgb, use_features_in_secondary=True\n",
    "                          )\n",
    "\n",
    "stack_mod=stregr.fit(x_train, y_train.ravel())\n",
    "stacking_pred=stack_mod.predict(x_test)\n",
    "\n",
    "print('Root Mean Square Error test = ' + str(math.sqrt(sklm.mean_squared_error(y_test, stacking_pred))))"
   ]
  },
  {
   "cell_type": "code",
   "execution_count": null,
   "metadata": {},
   "outputs": [],
   "source": []
  },
  {
   "cell_type": "code",
   "execution_count": null,
   "metadata": {},
   "outputs": [],
   "source": []
  }
 ],
 "metadata": {
  "kernelspec": {
   "display_name": "Python 3",
   "language": "python",
   "name": "python3"
  },
  "language_info": {
   "codemirror_mode": {
    "name": "ipython",
    "version": 3
   },
   "file_extension": ".py",
   "mimetype": "text/x-python",
   "name": "python",
   "nbconvert_exporter": "python",
   "pygments_lexer": "ipython3",
   "version": "3.7.1"
  }
 },
 "nbformat": 4,
 "nbformat_minor": 2
}
