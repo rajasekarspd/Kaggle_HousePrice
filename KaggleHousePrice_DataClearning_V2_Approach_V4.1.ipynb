{
 "cells": [
  {
   "cell_type": "markdown",
   "metadata": {},
   "source": [
    "## Predicting House Price"
   ]
  },
  {
   "cell_type": "code",
   "execution_count": 3,
   "metadata": {},
   "outputs": [
    {
     "data": {
      "text/plain": [
       "'%.3f'"
      ]
     },
     "execution_count": 3,
     "metadata": {},
     "output_type": "execute_result"
    }
   ],
   "source": [
    "#import necessary packages\n",
    "import pandas as pd\n",
    "import numpy as np\n",
    "import matplotlib.pyplot as plt\n",
    "%matplotlib inline\n",
    "import warnings\n",
    "warnings.filterwarnings('ignore')\n",
    "import seaborn as sb\n",
    "import sklearn\n",
    "from sklearn.preprocessing import LabelEncoder, OneHotEncoder\n",
    "import os\n",
    "from datetime import datetime\n",
    "from sklearn.model_selection import train_test_split, KFold, GridSearchCV\n",
    "from sklearn.metrics import mean_squared_error\n",
    "\n",
    "from scipy import stats\n",
    "from scipy.stats import skew, norm\n",
    "from scipy.special import boxcox1p\n",
    "\n",
    "#Set decimals to 3\n",
    "%precision 3"
   ]
  },
  {
   "cell_type": "code",
   "execution_count": 4,
   "metadata": {},
   "outputs": [],
   "source": [
    "#Read dataset\n",
    "df_train = pd.read_csv('data/train.csv')\n",
    "df_test = pd.read_csv('data/test.csv')"
   ]
  },
  {
   "cell_type": "code",
   "execution_count": 5,
   "metadata": {},
   "outputs": [
    {
     "data": {
      "text/html": [
       "<div>\n",
       "<style scoped>\n",
       "    .dataframe tbody tr th:only-of-type {\n",
       "        vertical-align: middle;\n",
       "    }\n",
       "\n",
       "    .dataframe tbody tr th {\n",
       "        vertical-align: top;\n",
       "    }\n",
       "\n",
       "    .dataframe thead th {\n",
       "        text-align: right;\n",
       "    }\n",
       "</style>\n",
       "<table border=\"1\" class=\"dataframe\">\n",
       "  <thead>\n",
       "    <tr style=\"text-align: right;\">\n",
       "      <th></th>\n",
       "      <th>Id</th>\n",
       "      <th>MSSubClass</th>\n",
       "      <th>MSZoning</th>\n",
       "      <th>LotFrontage</th>\n",
       "      <th>LotArea</th>\n",
       "      <th>Street</th>\n",
       "      <th>Alley</th>\n",
       "      <th>LotShape</th>\n",
       "      <th>LandContour</th>\n",
       "      <th>Utilities</th>\n",
       "      <th>...</th>\n",
       "      <th>PoolArea</th>\n",
       "      <th>PoolQC</th>\n",
       "      <th>Fence</th>\n",
       "      <th>MiscFeature</th>\n",
       "      <th>MiscVal</th>\n",
       "      <th>MoSold</th>\n",
       "      <th>YrSold</th>\n",
       "      <th>SaleType</th>\n",
       "      <th>SaleCondition</th>\n",
       "      <th>SalePrice</th>\n",
       "    </tr>\n",
       "  </thead>\n",
       "  <tbody>\n",
       "    <tr>\n",
       "      <td>0</td>\n",
       "      <td>1</td>\n",
       "      <td>60</td>\n",
       "      <td>RL</td>\n",
       "      <td>65.0</td>\n",
       "      <td>8450</td>\n",
       "      <td>Pave</td>\n",
       "      <td>NaN</td>\n",
       "      <td>Reg</td>\n",
       "      <td>Lvl</td>\n",
       "      <td>AllPub</td>\n",
       "      <td>...</td>\n",
       "      <td>0</td>\n",
       "      <td>NaN</td>\n",
       "      <td>NaN</td>\n",
       "      <td>NaN</td>\n",
       "      <td>0</td>\n",
       "      <td>2</td>\n",
       "      <td>2008</td>\n",
       "      <td>WD</td>\n",
       "      <td>Normal</td>\n",
       "      <td>208500</td>\n",
       "    </tr>\n",
       "    <tr>\n",
       "      <td>1</td>\n",
       "      <td>2</td>\n",
       "      <td>20</td>\n",
       "      <td>RL</td>\n",
       "      <td>80.0</td>\n",
       "      <td>9600</td>\n",
       "      <td>Pave</td>\n",
       "      <td>NaN</td>\n",
       "      <td>Reg</td>\n",
       "      <td>Lvl</td>\n",
       "      <td>AllPub</td>\n",
       "      <td>...</td>\n",
       "      <td>0</td>\n",
       "      <td>NaN</td>\n",
       "      <td>NaN</td>\n",
       "      <td>NaN</td>\n",
       "      <td>0</td>\n",
       "      <td>5</td>\n",
       "      <td>2007</td>\n",
       "      <td>WD</td>\n",
       "      <td>Normal</td>\n",
       "      <td>181500</td>\n",
       "    </tr>\n",
       "    <tr>\n",
       "      <td>2</td>\n",
       "      <td>3</td>\n",
       "      <td>60</td>\n",
       "      <td>RL</td>\n",
       "      <td>68.0</td>\n",
       "      <td>11250</td>\n",
       "      <td>Pave</td>\n",
       "      <td>NaN</td>\n",
       "      <td>IR1</td>\n",
       "      <td>Lvl</td>\n",
       "      <td>AllPub</td>\n",
       "      <td>...</td>\n",
       "      <td>0</td>\n",
       "      <td>NaN</td>\n",
       "      <td>NaN</td>\n",
       "      <td>NaN</td>\n",
       "      <td>0</td>\n",
       "      <td>9</td>\n",
       "      <td>2008</td>\n",
       "      <td>WD</td>\n",
       "      <td>Normal</td>\n",
       "      <td>223500</td>\n",
       "    </tr>\n",
       "    <tr>\n",
       "      <td>3</td>\n",
       "      <td>4</td>\n",
       "      <td>70</td>\n",
       "      <td>RL</td>\n",
       "      <td>60.0</td>\n",
       "      <td>9550</td>\n",
       "      <td>Pave</td>\n",
       "      <td>NaN</td>\n",
       "      <td>IR1</td>\n",
       "      <td>Lvl</td>\n",
       "      <td>AllPub</td>\n",
       "      <td>...</td>\n",
       "      <td>0</td>\n",
       "      <td>NaN</td>\n",
       "      <td>NaN</td>\n",
       "      <td>NaN</td>\n",
       "      <td>0</td>\n",
       "      <td>2</td>\n",
       "      <td>2006</td>\n",
       "      <td>WD</td>\n",
       "      <td>Abnorml</td>\n",
       "      <td>140000</td>\n",
       "    </tr>\n",
       "    <tr>\n",
       "      <td>4</td>\n",
       "      <td>5</td>\n",
       "      <td>60</td>\n",
       "      <td>RL</td>\n",
       "      <td>84.0</td>\n",
       "      <td>14260</td>\n",
       "      <td>Pave</td>\n",
       "      <td>NaN</td>\n",
       "      <td>IR1</td>\n",
       "      <td>Lvl</td>\n",
       "      <td>AllPub</td>\n",
       "      <td>...</td>\n",
       "      <td>0</td>\n",
       "      <td>NaN</td>\n",
       "      <td>NaN</td>\n",
       "      <td>NaN</td>\n",
       "      <td>0</td>\n",
       "      <td>12</td>\n",
       "      <td>2008</td>\n",
       "      <td>WD</td>\n",
       "      <td>Normal</td>\n",
       "      <td>250000</td>\n",
       "    </tr>\n",
       "  </tbody>\n",
       "</table>\n",
       "<p>5 rows × 81 columns</p>\n",
       "</div>"
      ],
      "text/plain": [
       "   Id  MSSubClass MSZoning  LotFrontage  LotArea Street Alley LotShape  \\\n",
       "0   1          60       RL         65.0     8450   Pave   NaN      Reg   \n",
       "1   2          20       RL         80.0     9600   Pave   NaN      Reg   \n",
       "2   3          60       RL         68.0    11250   Pave   NaN      IR1   \n",
       "3   4          70       RL         60.0     9550   Pave   NaN      IR1   \n",
       "4   5          60       RL         84.0    14260   Pave   NaN      IR1   \n",
       "\n",
       "  LandContour Utilities  ... PoolArea PoolQC Fence MiscFeature MiscVal MoSold  \\\n",
       "0         Lvl    AllPub  ...        0    NaN   NaN         NaN       0      2   \n",
       "1         Lvl    AllPub  ...        0    NaN   NaN         NaN       0      5   \n",
       "2         Lvl    AllPub  ...        0    NaN   NaN         NaN       0      9   \n",
       "3         Lvl    AllPub  ...        0    NaN   NaN         NaN       0      2   \n",
       "4         Lvl    AllPub  ...        0    NaN   NaN         NaN       0     12   \n",
       "\n",
       "  YrSold  SaleType  SaleCondition  SalePrice  \n",
       "0   2008        WD         Normal     208500  \n",
       "1   2007        WD         Normal     181500  \n",
       "2   2008        WD         Normal     223500  \n",
       "3   2006        WD        Abnorml     140000  \n",
       "4   2008        WD         Normal     250000  \n",
       "\n",
       "[5 rows x 81 columns]"
      ]
     },
     "execution_count": 5,
     "metadata": {},
     "output_type": "execute_result"
    }
   ],
   "source": [
    "#Review dataset\n",
    "df_train.head()"
   ]
  },
  {
   "cell_type": "code",
   "execution_count": 6,
   "metadata": {},
   "outputs": [
    {
     "data": {
      "text/html": [
       "<div>\n",
       "<style scoped>\n",
       "    .dataframe tbody tr th:only-of-type {\n",
       "        vertical-align: middle;\n",
       "    }\n",
       "\n",
       "    .dataframe tbody tr th {\n",
       "        vertical-align: top;\n",
       "    }\n",
       "\n",
       "    .dataframe thead th {\n",
       "        text-align: right;\n",
       "    }\n",
       "</style>\n",
       "<table border=\"1\" class=\"dataframe\">\n",
       "  <thead>\n",
       "    <tr style=\"text-align: right;\">\n",
       "      <th></th>\n",
       "      <th>Id</th>\n",
       "      <th>MSSubClass</th>\n",
       "      <th>MSZoning</th>\n",
       "      <th>LotFrontage</th>\n",
       "      <th>LotArea</th>\n",
       "      <th>Street</th>\n",
       "      <th>Alley</th>\n",
       "      <th>LotShape</th>\n",
       "      <th>LandContour</th>\n",
       "      <th>Utilities</th>\n",
       "      <th>...</th>\n",
       "      <th>ScreenPorch</th>\n",
       "      <th>PoolArea</th>\n",
       "      <th>PoolQC</th>\n",
       "      <th>Fence</th>\n",
       "      <th>MiscFeature</th>\n",
       "      <th>MiscVal</th>\n",
       "      <th>MoSold</th>\n",
       "      <th>YrSold</th>\n",
       "      <th>SaleType</th>\n",
       "      <th>SaleCondition</th>\n",
       "    </tr>\n",
       "  </thead>\n",
       "  <tbody>\n",
       "    <tr>\n",
       "      <td>0</td>\n",
       "      <td>1461</td>\n",
       "      <td>20</td>\n",
       "      <td>RH</td>\n",
       "      <td>80.0</td>\n",
       "      <td>11622</td>\n",
       "      <td>Pave</td>\n",
       "      <td>NaN</td>\n",
       "      <td>Reg</td>\n",
       "      <td>Lvl</td>\n",
       "      <td>AllPub</td>\n",
       "      <td>...</td>\n",
       "      <td>120</td>\n",
       "      <td>0</td>\n",
       "      <td>NaN</td>\n",
       "      <td>MnPrv</td>\n",
       "      <td>NaN</td>\n",
       "      <td>0</td>\n",
       "      <td>6</td>\n",
       "      <td>2010</td>\n",
       "      <td>WD</td>\n",
       "      <td>Normal</td>\n",
       "    </tr>\n",
       "    <tr>\n",
       "      <td>1</td>\n",
       "      <td>1462</td>\n",
       "      <td>20</td>\n",
       "      <td>RL</td>\n",
       "      <td>81.0</td>\n",
       "      <td>14267</td>\n",
       "      <td>Pave</td>\n",
       "      <td>NaN</td>\n",
       "      <td>IR1</td>\n",
       "      <td>Lvl</td>\n",
       "      <td>AllPub</td>\n",
       "      <td>...</td>\n",
       "      <td>0</td>\n",
       "      <td>0</td>\n",
       "      <td>NaN</td>\n",
       "      <td>NaN</td>\n",
       "      <td>Gar2</td>\n",
       "      <td>12500</td>\n",
       "      <td>6</td>\n",
       "      <td>2010</td>\n",
       "      <td>WD</td>\n",
       "      <td>Normal</td>\n",
       "    </tr>\n",
       "    <tr>\n",
       "      <td>2</td>\n",
       "      <td>1463</td>\n",
       "      <td>60</td>\n",
       "      <td>RL</td>\n",
       "      <td>74.0</td>\n",
       "      <td>13830</td>\n",
       "      <td>Pave</td>\n",
       "      <td>NaN</td>\n",
       "      <td>IR1</td>\n",
       "      <td>Lvl</td>\n",
       "      <td>AllPub</td>\n",
       "      <td>...</td>\n",
       "      <td>0</td>\n",
       "      <td>0</td>\n",
       "      <td>NaN</td>\n",
       "      <td>MnPrv</td>\n",
       "      <td>NaN</td>\n",
       "      <td>0</td>\n",
       "      <td>3</td>\n",
       "      <td>2010</td>\n",
       "      <td>WD</td>\n",
       "      <td>Normal</td>\n",
       "    </tr>\n",
       "    <tr>\n",
       "      <td>3</td>\n",
       "      <td>1464</td>\n",
       "      <td>60</td>\n",
       "      <td>RL</td>\n",
       "      <td>78.0</td>\n",
       "      <td>9978</td>\n",
       "      <td>Pave</td>\n",
       "      <td>NaN</td>\n",
       "      <td>IR1</td>\n",
       "      <td>Lvl</td>\n",
       "      <td>AllPub</td>\n",
       "      <td>...</td>\n",
       "      <td>0</td>\n",
       "      <td>0</td>\n",
       "      <td>NaN</td>\n",
       "      <td>NaN</td>\n",
       "      <td>NaN</td>\n",
       "      <td>0</td>\n",
       "      <td>6</td>\n",
       "      <td>2010</td>\n",
       "      <td>WD</td>\n",
       "      <td>Normal</td>\n",
       "    </tr>\n",
       "    <tr>\n",
       "      <td>4</td>\n",
       "      <td>1465</td>\n",
       "      <td>120</td>\n",
       "      <td>RL</td>\n",
       "      <td>43.0</td>\n",
       "      <td>5005</td>\n",
       "      <td>Pave</td>\n",
       "      <td>NaN</td>\n",
       "      <td>IR1</td>\n",
       "      <td>HLS</td>\n",
       "      <td>AllPub</td>\n",
       "      <td>...</td>\n",
       "      <td>144</td>\n",
       "      <td>0</td>\n",
       "      <td>NaN</td>\n",
       "      <td>NaN</td>\n",
       "      <td>NaN</td>\n",
       "      <td>0</td>\n",
       "      <td>1</td>\n",
       "      <td>2010</td>\n",
       "      <td>WD</td>\n",
       "      <td>Normal</td>\n",
       "    </tr>\n",
       "  </tbody>\n",
       "</table>\n",
       "<p>5 rows × 80 columns</p>\n",
       "</div>"
      ],
      "text/plain": [
       "     Id  MSSubClass MSZoning  LotFrontage  LotArea Street Alley LotShape  \\\n",
       "0  1461          20       RH         80.0    11622   Pave   NaN      Reg   \n",
       "1  1462          20       RL         81.0    14267   Pave   NaN      IR1   \n",
       "2  1463          60       RL         74.0    13830   Pave   NaN      IR1   \n",
       "3  1464          60       RL         78.0     9978   Pave   NaN      IR1   \n",
       "4  1465         120       RL         43.0     5005   Pave   NaN      IR1   \n",
       "\n",
       "  LandContour Utilities  ... ScreenPorch PoolArea PoolQC  Fence MiscFeature  \\\n",
       "0         Lvl    AllPub  ...         120        0    NaN  MnPrv         NaN   \n",
       "1         Lvl    AllPub  ...           0        0    NaN    NaN        Gar2   \n",
       "2         Lvl    AllPub  ...           0        0    NaN  MnPrv         NaN   \n",
       "3         Lvl    AllPub  ...           0        0    NaN    NaN         NaN   \n",
       "4         HLS    AllPub  ...         144        0    NaN    NaN         NaN   \n",
       "\n",
       "  MiscVal MoSold  YrSold  SaleType  SaleCondition  \n",
       "0       0      6    2010        WD         Normal  \n",
       "1   12500      6    2010        WD         Normal  \n",
       "2       0      3    2010        WD         Normal  \n",
       "3       0      6    2010        WD         Normal  \n",
       "4       0      1    2010        WD         Normal  \n",
       "\n",
       "[5 rows x 80 columns]"
      ]
     },
     "execution_count": 6,
     "metadata": {},
     "output_type": "execute_result"
    }
   ],
   "source": [
    "df_test.head()"
   ]
  },
  {
   "cell_type": "code",
   "execution_count": 7,
   "metadata": {
    "scrolled": true
   },
   "outputs": [
    {
     "data": {
      "text/plain": [
       "((1460, 81), (1459, 80))"
      ]
     },
     "execution_count": 7,
     "metadata": {},
     "output_type": "execute_result"
    }
   ],
   "source": [
    "#Review dataset size and shapes\n",
    "df_train.shape, df_test.shape"
   ]
  },
  {
   "cell_type": "markdown",
   "metadata": {},
   "source": [
    "### Data Back Up"
   ]
  },
  {
   "cell_type": "code",
   "execution_count": 8,
   "metadata": {},
   "outputs": [],
   "source": [
    "#take a back up copy of dataset\n",
    "df_train_copy = df_train.copy()\n",
    "df_test_copy = df_test.copy()"
   ]
  },
  {
   "cell_type": "markdown",
   "metadata": {},
   "source": [
    "### Handling Outliers"
   ]
  },
  {
   "cell_type": "code",
   "execution_count": 9,
   "metadata": {
    "scrolled": true
   },
   "outputs": [
    {
     "data": {
      "image/png": "[encoded data removed]",
      "text/plain": [
       "<Figure size 360x288 with 1 Axes>"
      ]
     },
     "metadata": {
      "needs_background": "light"
     },
     "output_type": "display_data"
    }
   ],
   "source": [
    "#Plot the outliers\n",
    "plt.figure(figsize=(5,4))\n",
    "plt.scatter(x=df_train['GrLivArea'], y=df_train['SalePrice'])\n",
    "plt.xlabel('Ground Live Area')\n",
    "plt.ylabel('SalePrice')\n",
    "plt.show();"
   ]
  },
  {
   "cell_type": "code",
   "execution_count": 10,
   "metadata": {},
   "outputs": [
    {
     "data": {
      "text/plain": [
       "(1460, 81)"
      ]
     },
     "execution_count": 10,
     "metadata": {},
     "output_type": "execute_result"
    }
   ],
   "source": [
    "df_train.shape"
   ]
  },
  {
   "cell_type": "code",
   "execution_count": 11,
   "metadata": {},
   "outputs": [
    {
     "data": {
      "text/plain": [
       "(1456, 81)"
      ]
     },
     "execution_count": 11,
     "metadata": {},
     "output_type": "execute_result"
    }
   ],
   "source": [
    "#Delete the outliers\n",
    "delidx = df_train[df_train['GrLivArea']>4000].index\n",
    "df_train = df_train.drop(delidx, axis=0)\n",
    "df_train.shape"
   ]
  },
  {
   "cell_type": "code",
   "execution_count": 12,
   "metadata": {
    "scrolled": true
   },
   "outputs": [
    {
     "data": {
      "image/png": "[encoded data removed]",
      "text/plain": [
       "<Figure size 360x288 with 1 Axes>"
      ]
     },
     "metadata": {
      "needs_background": "light"
     },
     "output_type": "display_data"
    }
   ],
   "source": [
    "#review outliers removal\n",
    "plt.figure(figsize=(5,4))\n",
    "plt.scatter(x=df_train['GrLivArea'], y=df_train['SalePrice'])\n",
    "plt.xlabel('Ground Live Area')\n",
    "plt.ylabel('SalePrice')\n",
    "plt.show();"
   ]
  },
  {
   "cell_type": "markdown",
   "metadata": {},
   "source": [
    "### Capture Total Number of rows in Train and Test"
   ]
  },
  {
   "cell_type": "code",
   "execution_count": 13,
   "metadata": {},
   "outputs": [
    {
     "data": {
      "text/plain": [
       "(1456, 1459)"
      ]
     },
     "execution_count": 13,
     "metadata": {},
     "output_type": "execute_result"
    }
   ],
   "source": [
    "ntrain = df_train.shape[0]\n",
    "ntest = df_test.shape[0]\n",
    "ntrain, ntest"
   ]
  },
  {
   "cell_type": "markdown",
   "metadata": {},
   "source": [
    "### Target Setup"
   ]
  },
  {
   "cell_type": "code",
   "execution_count": 14,
   "metadata": {},
   "outputs": [],
   "source": [
    "#Target column is identified as House SalePrice\n",
    "target = df_train['SalePrice'].values\n",
    "target_copy = target"
   ]
  },
  {
   "cell_type": "code",
   "execution_count": 15,
   "metadata": {},
   "outputs": [
    {
     "data": {
      "text/plain": [
       "((1456, 80), (1459, 79))"
      ]
     },
     "execution_count": 15,
     "metadata": {},
     "output_type": "execute_result"
    }
   ],
   "source": [
    "#Drop column id as that do not contribute to calculate SalePrice\n",
    "srs_testid = df_test['Id'] #Take backup of testid for final submission file\n",
    "\n",
    "df_train.drop('Id', inplace=True, axis=1)\n",
    "df_test.drop('Id', inplace=True, axis=1)\n",
    "\n",
    "#Validate column reduction\n",
    "df_train.shape, df_test.shape"
   ]
  },
  {
   "cell_type": "code",
   "execution_count": 16,
   "metadata": {},
   "outputs": [
    {
     "data": {
      "image/png": "[encoded data removed]",
      "text/plain": [
       "<Figure size 576x360 with 1 Axes>"
      ]
     },
     "metadata": {
      "needs_background": "light"
     },
     "output_type": "display_data"
    }
   ],
   "source": [
    "#Visualize target data\n",
    "plt.figure(figsize=(8,5))\n",
    "sb.distplot(target, fit=norm)\n",
    "plt.show();"
   ]
  },
  {
   "cell_type": "code",
   "execution_count": 17,
   "metadata": {
    "scrolled": true
   },
   "outputs": [
    {
     "data": {
      "image/png": "[encoded data removed]",
      "text/plain": [
       "<Figure size 576x360 with 1 Axes>"
      ]
     },
     "metadata": {
      "needs_background": "light"
     },
     "output_type": "display_data"
    }
   ],
   "source": [
    "#Since its not normalized taking log1p to normalize it\n",
    "plt.figure(figsize=(8,5))\n",
    "sb.distplot(np.log1p(target), fit=norm)\n",
    "plt.show();"
   ]
  },
  {
   "cell_type": "code",
   "execution_count": 18,
   "metadata": {},
   "outputs": [],
   "source": [
    "#As the graph now shown to be normalized, Hence transforming yvalue to log1p\n",
    "target = np.log1p(target)"
   ]
  },
  {
   "cell_type": "markdown",
   "metadata": {},
   "source": [
    "### Building All Data"
   ]
  },
  {
   "cell_type": "code",
   "execution_count": 19,
   "metadata": {},
   "outputs": [
    {
     "data": {
      "text/plain": [
       "(2915, 80)"
      ]
     },
     "execution_count": 19,
     "metadata": {},
     "output_type": "execute_result"
    }
   ],
   "source": [
    "#Concate both train and test dataset for data transformation\n",
    "df_alldata = pd.concat([df_train, df_test], axis=0).reset_index(drop=True)\n",
    "\n",
    "#Review all data\n",
    "df_alldata.shape"
   ]
  },
  {
   "cell_type": "code",
   "execution_count": 20,
   "metadata": {},
   "outputs": [],
   "source": [
    "#drop target column SalePrice from all data\n",
    "df_alldata.drop('SalePrice', \n",
    "               inplace=True,\n",
    "               axis=1)"
   ]
  },
  {
   "cell_type": "code",
   "execution_count": 21,
   "metadata": {
    "scrolled": true
   },
   "outputs": [
    {
     "data": {
      "text/html": [
       "<div>\n",
       "<style scoped>\n",
       "    .dataframe tbody tr th:only-of-type {\n",
       "        vertical-align: middle;\n",
       "    }\n",
       "\n",
       "    .dataframe tbody tr th {\n",
       "        vertical-align: top;\n",
       "    }\n",
       "\n",
       "    .dataframe thead th {\n",
       "        text-align: right;\n",
       "    }\n",
       "</style>\n",
       "<table border=\"1\" class=\"dataframe\">\n",
       "  <thead>\n",
       "    <tr style=\"text-align: right;\">\n",
       "      <th></th>\n",
       "      <th>1stFlrSF</th>\n",
       "      <th>2ndFlrSF</th>\n",
       "      <th>3SsnPorch</th>\n",
       "      <th>Alley</th>\n",
       "      <th>BedroomAbvGr</th>\n",
       "      <th>BldgType</th>\n",
       "      <th>BsmtCond</th>\n",
       "      <th>BsmtExposure</th>\n",
       "      <th>BsmtFinSF1</th>\n",
       "      <th>BsmtFinSF2</th>\n",
       "      <th>...</th>\n",
       "      <th>SaleType</th>\n",
       "      <th>ScreenPorch</th>\n",
       "      <th>Street</th>\n",
       "      <th>TotRmsAbvGrd</th>\n",
       "      <th>TotalBsmtSF</th>\n",
       "      <th>Utilities</th>\n",
       "      <th>WoodDeckSF</th>\n",
       "      <th>YearBuilt</th>\n",
       "      <th>YearRemodAdd</th>\n",
       "      <th>YrSold</th>\n",
       "    </tr>\n",
       "  </thead>\n",
       "  <tbody>\n",
       "    <tr>\n",
       "      <td>0</td>\n",
       "      <td>856</td>\n",
       "      <td>854</td>\n",
       "      <td>0</td>\n",
       "      <td>NaN</td>\n",
       "      <td>3</td>\n",
       "      <td>1Fam</td>\n",
       "      <td>TA</td>\n",
       "      <td>No</td>\n",
       "      <td>706.0</td>\n",
       "      <td>0.0</td>\n",
       "      <td>...</td>\n",
       "      <td>WD</td>\n",
       "      <td>0</td>\n",
       "      <td>Pave</td>\n",
       "      <td>8</td>\n",
       "      <td>856.0</td>\n",
       "      <td>AllPub</td>\n",
       "      <td>0</td>\n",
       "      <td>2003</td>\n",
       "      <td>2003</td>\n",
       "      <td>2008</td>\n",
       "    </tr>\n",
       "    <tr>\n",
       "      <td>1</td>\n",
       "      <td>1262</td>\n",
       "      <td>0</td>\n",
       "      <td>0</td>\n",
       "      <td>NaN</td>\n",
       "      <td>3</td>\n",
       "      <td>1Fam</td>\n",
       "      <td>TA</td>\n",
       "      <td>Gd</td>\n",
       "      <td>978.0</td>\n",
       "      <td>0.0</td>\n",
       "      <td>...</td>\n",
       "      <td>WD</td>\n",
       "      <td>0</td>\n",
       "      <td>Pave</td>\n",
       "      <td>6</td>\n",
       "      <td>1262.0</td>\n",
       "      <td>AllPub</td>\n",
       "      <td>298</td>\n",
       "      <td>1976</td>\n",
       "      <td>1976</td>\n",
       "      <td>2007</td>\n",
       "    </tr>\n",
       "    <tr>\n",
       "      <td>2</td>\n",
       "      <td>920</td>\n",
       "      <td>866</td>\n",
       "      <td>0</td>\n",
       "      <td>NaN</td>\n",
       "      <td>3</td>\n",
       "      <td>1Fam</td>\n",
       "      <td>TA</td>\n",
       "      <td>Mn</td>\n",
       "      <td>486.0</td>\n",
       "      <td>0.0</td>\n",
       "      <td>...</td>\n",
       "      <td>WD</td>\n",
       "      <td>0</td>\n",
       "      <td>Pave</td>\n",
       "      <td>6</td>\n",
       "      <td>920.0</td>\n",
       "      <td>AllPub</td>\n",
       "      <td>0</td>\n",
       "      <td>2001</td>\n",
       "      <td>2002</td>\n",
       "      <td>2008</td>\n",
       "    </tr>\n",
       "  </tbody>\n",
       "</table>\n",
       "<p>3 rows × 79 columns</p>\n",
       "</div>"
      ],
      "text/plain": [
       "   1stFlrSF  2ndFlrSF  3SsnPorch Alley  BedroomAbvGr BldgType BsmtCond  \\\n",
       "0       856       854          0   NaN             3     1Fam       TA   \n",
       "1      1262         0          0   NaN             3     1Fam       TA   \n",
       "2       920       866          0   NaN             3     1Fam       TA   \n",
       "\n",
       "  BsmtExposure  BsmtFinSF1  BsmtFinSF2  ... SaleType ScreenPorch  Street  \\\n",
       "0           No       706.0         0.0  ...       WD           0    Pave   \n",
       "1           Gd       978.0         0.0  ...       WD           0    Pave   \n",
       "2           Mn       486.0         0.0  ...       WD           0    Pave   \n",
       "\n",
       "   TotRmsAbvGrd TotalBsmtSF  Utilities WoodDeckSF YearBuilt YearRemodAdd  \\\n",
       "0             8       856.0     AllPub          0      2003         2003   \n",
       "1             6      1262.0     AllPub        298      1976         1976   \n",
       "2             6       920.0     AllPub          0      2001         2002   \n",
       "\n",
       "  YrSold  \n",
       "0   2008  \n",
       "1   2007  \n",
       "2   2008  \n",
       "\n",
       "[3 rows x 79 columns]"
      ]
     },
     "execution_count": 21,
     "metadata": {},
     "output_type": "execute_result"
    }
   ],
   "source": [
    "df_alldata.head(3)"
   ]
  },
  {
   "cell_type": "markdown",
   "metadata": {},
   "source": [
    "## Data Munging"
   ]
  },
  {
   "cell_type": "code",
   "execution_count": 22,
   "metadata": {},
   "outputs": [
    {
     "data": {
      "text/plain": [
       "(2915, 79)"
      ]
     },
     "execution_count": 22,
     "metadata": {},
     "output_type": "execute_result"
    }
   ],
   "source": [
    "df_alldata.shape"
   ]
  },
  {
   "cell_type": "code",
   "execution_count": 23,
   "metadata": {},
   "outputs": [
    {
     "name": "stdout",
     "output_type": "stream",
     "text": [
      "No. of columns dropped - 6\n"
     ]
    }
   ],
   "source": [
    "#Remove columns were data is less than 90%\n",
    "df_alldata_copy = df_alldata.copy()\n",
    "df_alldata = df_alldata.dropna(thresh=len(df_alldata)*0.9, axis=1)\n",
    "print('No. of columns dropped -', df_alldata_copy.shape[1]-df_alldata.shape[1])"
   ]
  },
  {
   "cell_type": "code",
   "execution_count": 24,
   "metadata": {},
   "outputs": [
    {
     "name": "stdout",
     "output_type": "stream",
     "text": [
      "Columns dropped: ['Alley', 'Fence', 'FireplaceQu', 'LotFrontage', 'MiscFeature', 'PoolQC']\n"
     ]
    }
   ],
   "source": [
    "c1 = df_alldata_copy.columns\n",
    "c2 = df_alldata.columns\n",
    "dcols = [col for col in c1 if col not in c2]\n",
    "print('Columns dropped:', dcols)"
   ]
  },
  {
   "cell_type": "code",
   "execution_count": 25,
   "metadata": {},
   "outputs": [
    {
     "data": {
      "text/plain": [
       "(2915, 73)"
      ]
     },
     "execution_count": 25,
     "metadata": {},
     "output_type": "execute_result"
    }
   ],
   "source": [
    "df_alldata.shape"
   ]
  },
  {
   "cell_type": "markdown",
   "metadata": {},
   "source": [
    "## Handling Missing Values"
   ]
  },
  {
   "cell_type": "code",
   "execution_count": 26,
   "metadata": {},
   "outputs": [
    {
     "name": "stdout",
     "output_type": "stream",
     "text": [
      "No of columns with nulls:  28\n"
     ]
    }
   ],
   "source": [
    "#Find null values in dataset\n",
    "alldata_na = df_alldata.isnull().sum()\n",
    "alldata_na = alldata_na[alldata_na>0]\n",
    "alldata_na = alldata_na.sort_values(ascending=False)\n",
    "print('No of columns with nulls: ', len(alldata_na))"
   ]
  },
  {
   "cell_type": "code",
   "execution_count": 27,
   "metadata": {},
   "outputs": [],
   "source": [
    "#For selected columns below impute missing values with 'None'\n",
    "nonecols=['GarageType','GarageFinish','GarageQual','GarageCond','BsmtQual','BsmtCond','BsmtExposure','BsmtFinType1','BsmtFinType2','MasVnrType','MSSubClass']\n",
    "\n",
    "for col in nonecols:\n",
    "    df_alldata[col] = df_alldata[col].fillna('None')"
   ]
  },
  {
   "cell_type": "code",
   "execution_count": 28,
   "metadata": {},
   "outputs": [],
   "source": [
    "#For selected columns below impute missing values with 0\n",
    "zerocols = ['GarageYrBlt','GarageArea','GarageCars', 'BsmtFinSF1','BsmtFinSF2','BsmtUnfSF','TotalBsmtSF','BsmtFullBath','BsmtHalfBath','MasVnrArea']\n",
    "\n",
    "for col in zerocols:\n",
    "    df_alldata[col] = df_alldata[col].fillna(0)"
   ]
  },
  {
   "cell_type": "code",
   "execution_count": 29,
   "metadata": {},
   "outputs": [],
   "source": [
    "#For selected columns below fill null with mode\n",
    "modecols=['MSZoning', 'Electrical', 'KitchenQual', 'Exterior1st', 'Exterior2nd', 'SaleType']\n",
    "\n",
    "for col in modecols:\n",
    "    df_alldata[col] = df_alldata[col].fillna(df_alldata[col].mode()[0])"
   ]
  },
  {
   "cell_type": "code",
   "execution_count": 30,
   "metadata": {},
   "outputs": [],
   "source": [
    "#Drop the Utilities column\n",
    "df_alldata.drop('Utilities', inplace=True, axis=1)"
   ]
  },
  {
   "cell_type": "code",
   "execution_count": 31,
   "metadata": {},
   "outputs": [],
   "source": [
    "#Impute value 'Typ'\n",
    "df_alldata['Functional'] = df_alldata.fillna('Typ')"
   ]
  },
  {
   "cell_type": "code",
   "execution_count": 32,
   "metadata": {},
   "outputs": [
    {
     "data": {
      "text/plain": [
       "Series([], dtype: int64)"
      ]
     },
     "execution_count": 32,
     "metadata": {},
     "output_type": "execute_result"
    }
   ],
   "source": [
    "#Lookout for missing null values again\n",
    "nas = df_alldata.isnull().sum()\n",
    "nas = nas[nas>0]\n",
    "nas"
   ]
  },
  {
   "cell_type": "code",
   "execution_count": 33,
   "metadata": {},
   "outputs": [],
   "source": [
    "#Add new column TotalSF\n",
    "df_alldata['TotalSF'] = df_alldata['TotalBsmtSF'] + df_alldata['1stFlrSF'] + df_alldata['2ndFlrSF']"
   ]
  },
  {
   "cell_type": "code",
   "execution_count": 34,
   "metadata": {},
   "outputs": [],
   "source": [
    "#Drop noise columns\n",
    "dropcols = ['TotalBsmtSF', '1stFlrSF', '2ndFlrSF']\n",
    "df_alldata.drop(dropcols, inplace=True, axis=1)"
   ]
  },
  {
   "cell_type": "code",
   "execution_count": 35,
   "metadata": {},
   "outputs": [],
   "source": [
    "#Convert these cols to numerical\n",
    "df_alldata['Functional'] = df_alldata['Functional'].astype(float)"
   ]
  },
  {
   "cell_type": "markdown",
   "metadata": {},
   "source": [
    "---"
   ]
  },
  {
   "cell_type": "code",
   "execution_count": 36,
   "metadata": {
    "scrolled": true
   },
   "outputs": [
    {
     "data": {
      "text/plain": [
       "Index(['3SsnPorch', 'BedroomAbvGr', 'BsmtFinSF1', 'BsmtFinSF2', 'BsmtFullBath',\n",
       "       'BsmtHalfBath', 'BsmtUnfSF', 'EnclosedPorch', 'Fireplaces', 'FullBath',\n",
       "       'Functional', 'GarageArea', 'GarageCars', 'GarageYrBlt', 'GrLivArea',\n",
       "       'HalfBath', 'KitchenAbvGr', 'LotArea', 'LowQualFinSF', 'MSSubClass',\n",
       "       'MasVnrArea', 'MiscVal', 'MoSold', 'OpenPorchSF', 'OverallCond',\n",
       "       'OverallQual', 'PoolArea', 'ScreenPorch', 'TotRmsAbvGrd', 'WoodDeckSF',\n",
       "       'YearBuilt', 'YearRemodAdd', 'YrSold', 'TotalSF'],\n",
       "      dtype='object')"
      ]
     },
     "execution_count": 36,
     "metadata": {},
     "output_type": "execute_result"
    }
   ],
   "source": [
    "#Selecting numerical features\n",
    "num_feats = df_alldata.select_dtypes(exclude='object').columns\n",
    "num_feats"
   ]
  },
  {
   "cell_type": "code",
   "execution_count": 37,
   "metadata": {
    "scrolled": true
   },
   "outputs": [
    {
     "data": {
      "text/plain": [
       "Index(['BldgType', 'BsmtCond', 'BsmtExposure', 'BsmtFinType1', 'BsmtFinType2',\n",
       "       'BsmtQual', 'CentralAir', 'Condition1', 'Condition2', 'Electrical',\n",
       "       'ExterCond', 'ExterQual', 'Exterior1st', 'Exterior2nd', 'Foundation',\n",
       "       'GarageCond', 'GarageFinish', 'GarageQual', 'GarageType', 'Heating',\n",
       "       'HeatingQC', 'HouseStyle', 'KitchenQual', 'LandContour', 'LandSlope',\n",
       "       'LotConfig', 'LotShape', 'MSZoning', 'MasVnrType', 'Neighborhood',\n",
       "       'PavedDrive', 'RoofMatl', 'RoofStyle', 'SaleCondition', 'SaleType',\n",
       "       'Street'],\n",
       "      dtype='object')"
      ]
     },
     "execution_count": 37,
     "metadata": {},
     "output_type": "execute_result"
    }
   ],
   "source": [
    "catg_feats = df_alldata.dtypes[df_alldata.dtypes == 'object'].index\n",
    "catg_feats"
   ]
  },
  {
   "cell_type": "code",
   "execution_count": 38,
   "metadata": {},
   "outputs": [],
   "source": [
    "#Before onehot encoding\n",
    "df_beforeonehot = df_alldata.copy()"
   ]
  },
  {
   "cell_type": "code",
   "execution_count": 39,
   "metadata": {},
   "outputs": [
    {
     "data": {
      "text/plain": [
       "(2915, 70)"
      ]
     },
     "execution_count": 39,
     "metadata": {},
     "output_type": "execute_result"
    }
   ],
   "source": [
    "df_alldata.shape"
   ]
  },
  {
   "cell_type": "markdown",
   "metadata": {},
   "source": [
    "## Perform One hot Encoding"
   ]
  },
  {
   "cell_type": "code",
   "execution_count": 40,
   "metadata": {},
   "outputs": [],
   "source": [
    "#Actual onehot encoding avoiding dummy variable trap\n",
    "for col in catg_feats:\n",
    "    df_temp = df_alldata[col]\n",
    "    df_temp = pd.DataFrame(df_temp)\n",
    "    df_temp = pd.get_dummies(df_temp, prefix = col)\n",
    "    temp = df_temp.columns[0] #Delete one dummy variable\n",
    "    df_temp.drop(temp, inplace=True, axis=1)\n",
    "    df_alldata = pd.concat([df_alldata, df_temp], axis=1).reset_index(drop=True)\n",
    "    df_alldata.drop(col, inplace=True, axis=1) #Delete actual column from dataframe"
   ]
  },
  {
   "cell_type": "code",
   "execution_count": 41,
   "metadata": {},
   "outputs": [
    {
     "data": {
      "text/plain": [
       "(2915, 231)"
      ]
     },
     "execution_count": 41,
     "metadata": {},
     "output_type": "execute_result"
    }
   ],
   "source": [
    "df_alldata.shape"
   ]
  },
  {
   "cell_type": "markdown",
   "metadata": {},
   "source": [
    "### Skew data to normalize feature values"
   ]
  },
  {
   "cell_type": "code",
   "execution_count": 42,
   "metadata": {},
   "outputs": [
    {
     "name": "stdout",
     "output_type": "stream",
     "text": [
      "No of Features to be Skewed:  24\n",
      "MiscVal          21.932147\n",
      "PoolArea         18.701829\n",
      "LotArea          13.123758\n",
      "LowQualFinSF     12.080315\n",
      "3SsnPorch        11.368094\n",
      "KitchenAbvGr      4.298845\n",
      "BsmtFinSF2        4.142863\n",
      "EnclosedPorch     4.000796\n",
      "ScreenPorch       3.943508\n",
      "BsmtHalfBath      3.942892\n",
      "dtype: float64\n"
     ]
    }
   ],
   "source": [
    "skew_feats = df_alldata[num_feats].apply(lambda x: skew(x.dropna())).sort_values(ascending=False)\n",
    "skew_feats = skew_feats[skew_feats>0.5]\n",
    "print('No of Features to be Skewed: ', len(skew_feats))\n",
    "print(skew_feats[:10])"
   ]
  },
  {
   "cell_type": "code",
   "execution_count": 43,
   "metadata": {},
   "outputs": [
    {
     "data": {
      "image/png": "[encoded data removed]",
      "text/plain": [
       "<Figure size 576x360 with 1 Axes>"
      ]
     },
     "metadata": {
      "needs_background": "light"
     },
     "output_type": "display_data"
    }
   ],
   "source": [
    "plt.figure(figsize=(8,5))\n",
    "skew_feats.plot(kind='bar')\n",
    "plt.title('Skewed Features')\n",
    "plt.xlabel('Features')\n",
    "plt.ylabel('Skewed Value')\n",
    "plt.show()"
   ]
  },
  {
   "cell_type": "code",
   "execution_count": 44,
   "metadata": {},
   "outputs": [
    {
     "name": "stdout",
     "output_type": "stream",
     "text": [
      "No of Features Skewed:  24\n"
     ]
    }
   ],
   "source": [
    "#Perform Box Cox Transformation on selected features having skew value > 0.5\n",
    "Lambda=0.15\n",
    "for col in skew_feats.index:\n",
    "    df_alldata[col] = boxcox1p(df_alldata[col], Lambda)\n",
    "    \n",
    "print('No of Features Skewed: ',skew_feats.shape[0])"
   ]
  },
  {
   "cell_type": "markdown",
   "metadata": {},
   "source": [
    "## Building Training and Test Set"
   ]
  },
  {
   "cell_type": "code",
   "execution_count": 45,
   "metadata": {},
   "outputs": [],
   "source": [
    "df_train = df_alldata[:ntrain]\n",
    "df_test = df_alldata[ntrain:]"
   ]
  },
  {
   "cell_type": "code",
   "execution_count": 46,
   "metadata": {},
   "outputs": [
    {
     "data": {
      "text/plain": [
       "(1456, 231)"
      ]
     },
     "execution_count": 46,
     "metadata": {},
     "output_type": "execute_result"
    }
   ],
   "source": [
    "#X value\n",
    "X = df_train.values\n",
    "df_train.shape"
   ]
  },
  {
   "cell_type": "code",
   "execution_count": 47,
   "metadata": {
    "scrolled": true
   },
   "outputs": [
    {
     "data": {
      "text/plain": [
       "(1456,)"
      ]
     },
     "execution_count": 47,
     "metadata": {},
     "output_type": "execute_result"
    }
   ],
   "source": [
    "#Y value\n",
    "y = target\n",
    "y.shape"
   ]
  },
  {
   "cell_type": "code",
   "execution_count": 48,
   "metadata": {},
   "outputs": [
    {
     "data": {
      "text/plain": [
       "(1459, 231)"
      ]
     },
     "execution_count": 48,
     "metadata": {},
     "output_type": "execute_result"
    }
   ],
   "source": [
    "#Test set\n",
    "test_set = df_test.values\n",
    "df_test.shape"
   ]
  },
  {
   "cell_type": "markdown",
   "metadata": {},
   "source": [
    "### Cross Validation"
   ]
  },
  {
   "cell_type": "code",
   "execution_count": 49,
   "metadata": {},
   "outputs": [],
   "source": [
    "#Defining cross validation strategy\n",
    "cross_val = KFold(n_splits=10, shuffle=True, random_state=42)"
   ]
  },
  {
   "cell_type": "markdown",
   "metadata": {},
   "source": [
    "### Building Function for Submission"
   ]
  },
  {
   "cell_type": "code",
   "execution_count": 50,
   "metadata": {},
   "outputs": [],
   "source": [
    "def Submission(prediction):\n",
    "    df_pred = pd.DataFrame({'Id':srs_testid, 'SalePrice':prediction})\n",
    "    print('Sample Prediction:', prediction[:5])\n",
    "    \n",
    "    #Defining file name\n",
    "    tday = datetime.today()\n",
    "    tm = str(tday.date().day)+str(tday.date().month)+str('_')+str(tday.time().hour)+str(tday.time().minute)+str(tday.time().second)\n",
    "    fn = 'Submission_'\n",
    "    fn = str(fn)+str(tm)+str('.csv')\n",
    "    \n",
    "    #Saving prediction to csv\n",
    "    df_pred.to_csv(fn, index=False)\n",
    "    print('Submission file saved to', os.path.realpath(fn))"
   ]
  },
  {
   "cell_type": "markdown",
   "metadata": {},
   "source": [
    "### Function to save score values"
   ]
  },
  {
   "cell_type": "code",
   "execution_count": 51,
   "metadata": {},
   "outputs": [
    {
     "data": {
      "text/html": [
       "<div>\n",
       "<style scoped>\n",
       "    .dataframe tbody tr th:only-of-type {\n",
       "        vertical-align: middle;\n",
       "    }\n",
       "\n",
       "    .dataframe tbody tr th {\n",
       "        vertical-align: top;\n",
       "    }\n",
       "\n",
       "    .dataframe thead th {\n",
       "        text-align: right;\n",
       "    }\n",
       "</style>\n",
       "<table border=\"1\" class=\"dataframe\">\n",
       "  <thead>\n",
       "    <tr style=\"text-align: right;\">\n",
       "      <th></th>\n",
       "      <th>Model</th>\n",
       "      <th>Train_RMSE</th>\n",
       "      <th>Test_RMSE</th>\n",
       "      <th>Comments</th>\n",
       "      <th>Parameters</th>\n",
       "    </tr>\n",
       "  </thead>\n",
       "  <tbody>\n",
       "  </tbody>\n",
       "</table>\n",
       "</div>"
      ],
      "text/plain": [
       "Empty DataFrame\n",
       "Columns: [Model, Train_RMSE, Test_RMSE, Comments, Parameters]\n",
       "Index: []"
      ]
     },
     "execution_count": 51,
     "metadata": {},
     "output_type": "execute_result"
    }
   ],
   "source": [
    "#Dataframe to save scores\n",
    "cols = ['Model', 'Train_RMSE', 'Test_RMSE', 'Comments', 'Parameters']\n",
    "df_model = pd.DataFrame(columns=cols)\n",
    "df_model"
   ]
  },
  {
   "cell_type": "code",
   "execution_count": 52,
   "metadata": {},
   "outputs": [],
   "source": [
    "def rmse_train(df_model, model, x, y, comments='Comments'):\n",
    "    \n",
    "    rmse = np.sqrt(-cross_val_score(model, x, y, cv=cross_val, scoring='neg_mean_squared_error', n_jobs=-1))\n",
    "    rmse = rmse.mean()\n",
    "    \n",
    "    #Create dictionary\n",
    "    dict_score = {}\n",
    "    dict_score['Model'] = model.__class__.__name__\n",
    "    dict_score['Train_RMSE'] = rmse\n",
    "    dict_score['Test_RMSE'] = 'NA'\n",
    "    dict_score['Comments'] = comments\n",
    "    \n",
    "    #Create dataframe with values\n",
    "    df_temp = pd.DataFrame(dict_score, index=[0])\n",
    "    \n",
    "    #Append dataframe\n",
    "    df_model = df_model.append(df_temp)\n",
    "    df_model = df_model.reset_index(drop=True)\n",
    "    \n",
    "    return df_model"
   ]
  },
  {
   "cell_type": "code",
   "execution_count": 53,
   "metadata": {},
   "outputs": [],
   "source": [
    "def rmse_test(df_model,modelname, y, y_pred, comments='Comments'):\n",
    "    \n",
    "    rmse = np.sqrt(mean_squared_error(y, y_pred))\n",
    "    \n",
    "    #Create dictionary\n",
    "    dict_score = {}\n",
    "    dict_score['Model'] = modelname\n",
    "    dict_score['Train_RMSE'] = 'NA'\n",
    "    dict_score['Test_RMSE'] = rmse\n",
    "    dict_score['Comments'] = comments\n",
    "    \n",
    "    #Create dataframe with values\n",
    "    df_temp = pd.DataFrame(dict_score, index=[0])\n",
    "    \n",
    "    #Append dataframe\n",
    "    df_model = df_model.append(df_temp)\n",
    "    df_model = df_model.reset_index(drop=True)\n",
    "    \n",
    "    return df_model"
   ]
  },
  {
   "cell_type": "markdown",
   "metadata": {},
   "source": [
    "---"
   ]
  },
  {
   "cell_type": "markdown",
   "metadata": {},
   "source": [
    "### Building Model"
   ]
  },
  {
   "cell_type": "code",
   "execution_count": 54,
   "metadata": {},
   "outputs": [],
   "source": [
    "from sklearn.linear_model import LassoCV, RidgeCV, Lasso, Ridge, ElasticNet, ElasticNetCV\n",
    "from sklearn.model_selection import KFold, train_test_split, ShuffleSplit, cross_val_score\n",
    "from sklearn.metrics import mean_squared_error, mean_absolute_error\n",
    "from sklearn.preprocessing import RobustScaler\n",
    "import xgboost as xgb\n",
    "import lightgbm as lgbm"
   ]
  },
  {
   "cell_type": "code",
   "execution_count": 55,
   "metadata": {},
   "outputs": [],
   "source": [
    "#Split dataset into train and test set\n",
    "X_train, X_test, y_train, y_test = train_test_split(X, y, test_size=0.2, random_state=42)"
   ]
  },
  {
   "cell_type": "markdown",
   "metadata": {},
   "source": [
    "### Function to calculate both Train and Test RMSE"
   ]
  },
  {
   "cell_type": "code",
   "execution_count": 89,
   "metadata": {},
   "outputs": [],
   "source": [
    "def calc_rmse(model, df_model=df_model, X_train=X_train, y_train=y_train, X_test=X_test, y_test=y_test, comments='Comments'):\n",
    "    \n",
    "    #Calculate train rmse\n",
    "    rmse_train = np.sqrt(-cross_val_score(model, X_train, y_train, cv=cross_val, scoring='neg_mean_squared_error', n_jobs=-1))\n",
    "    rmse_train = rmse_train.mean()\n",
    "    \n",
    "    #Fit the model\n",
    "    model.fit(X_train, y_train)\n",
    "    y_pred = model.predict(X_test)\n",
    "    \n",
    "    #Calculate test rmse\n",
    "    rmse_test = np.sqrt(mean_squared_error(y_test, y_pred))\n",
    "    \n",
    "    #Create dictionary\n",
    "    dict_score = {}\n",
    "    dict_score['Model'] = model.__class__.__name__\n",
    "    dict_score['Train_RMSE'] = rmse_train\n",
    "    dict_score['Test_RMSE'] = rmse_test\n",
    "    dict_score['Comments'] = comments\n",
    "    dict_score['Parameters'] = str(model.get_params())\n",
    "    \n",
    "    #Create dataframe with values\n",
    "    df_temp = pd.DataFrame(dict_score, index=[0])\n",
    "    \n",
    "    #Append dataframe\n",
    "    df_model = df_model.append(df_temp)\n",
    "    df_model = df_model.reset_index(drop=True)\n",
    "    \n",
    "    return df_model"
   ]
  },
  {
   "cell_type": "code",
   "execution_count": 56,
   "metadata": {},
   "outputs": [
    {
     "name": "stdout",
     "output_type": "stream",
     "text": [
      "Training set size: 1164\n",
      "Test set size: 292\n"
     ]
    }
   ],
   "source": [
    "print('Training set size:', X_train.shape[0])\n",
    "print('Test set size:', X_test.shape[0])"
   ]
  },
  {
   "cell_type": "markdown",
   "metadata": {},
   "source": [
    "### Scaling data using Robust Scaler"
   ]
  },
  {
   "cell_type": "code",
   "execution_count": 100,
   "metadata": {},
   "outputs": [],
   "source": [
    "rscaler = RobustScaler()\n",
    "X_train = rscaler.fit_transform(X_train) #Scaled train data\n",
    "X_test = rscaler.transform(X_test) #Scaled dev data\n",
    "test_set = rscaler.transform(df_test.values) #Scale validation set"
   ]
  },
  {
   "cell_type": "code",
   "execution_count": 101,
   "metadata": {},
   "outputs": [],
   "source": [
    "alphas=[0.0001, 0.0003, 0.0006, 0.001, 0.003, 0.006, 0.01, 0.03, 0.06, 0.1, 0.3, 0.6, 1, 2, 10, 20, 50]"
   ]
  },
  {
   "cell_type": "code",
   "execution_count": 109,
   "metadata": {},
   "outputs": [],
   "source": [
    "#Building Lasso Model\n",
    "lcv = LassoCV(alphas=alphas2, random_state=42, cv=cross_val, n_jobs=-1, max_iter=10000)"
   ]
  },
  {
   "cell_type": "code",
   "execution_count": 110,
   "metadata": {},
   "outputs": [
    {
     "data": {
      "text/plain": [
       "LassoCV(alphas=[0.0002, 0.0004, 0.0006000000000000001, 0.0008, 0.001,\n",
       "                0.0012000000000000001, 0.0014000000000000002,\n",
       "                0.0016000000000000003, 0.0018000000000000004,\n",
       "                0.0020000000000000005],\n",
       "        copy_X=True, cv=KFold(n_splits=10, random_state=42, shuffle=True),\n",
       "        eps=0.001, fit_intercept=True, max_iter=10000, n_alphas=100, n_jobs=-1,\n",
       "        normalize=False, positive=False, precompute='auto', random_state=42,\n",
       "        selection='cyclic', tol=0.0001, verbose=False)"
      ]
     },
     "execution_count": 110,
     "metadata": {},
     "output_type": "execute_result"
    }
   ],
   "source": [
    "lcv.fit(X_train, y_train)"
   ]
  },
  {
   "cell_type": "code",
   "execution_count": 111,
   "metadata": {},
   "outputs": [
    {
     "data": {
      "text/plain": [
       "0.0006000000000000001"
      ]
     },
     "execution_count": 111,
     "metadata": {},
     "output_type": "execute_result"
    }
   ],
   "source": [
    "lcv.alpha_"
   ]
  },
  {
   "cell_type": "code",
   "execution_count": 108,
   "metadata": {},
   "outputs": [
    {
     "data": {
      "text/plain": [
       "[0.00020,\n",
       " 0.00040,\n",
       " 0.00060,\n",
       " 0.00080,\n",
       " 0.00100,\n",
       " 0.00120,\n",
       " 0.00140,\n",
       " 0.00160,\n",
       " 0.00180,\n",
       " 0.00200]"
      ]
     },
     "execution_count": 108,
     "metadata": {},
     "output_type": "execute_result"
    }
   ],
   "source": [
    "x=0.0000\n",
    "alphas2=[]\n",
    "for i in range(10):\n",
    "    x=x+0.0002\n",
    "    alphas2.append(x)\n",
    "alphas2"
   ]
  },
  {
   "cell_type": "code",
   "execution_count": 112,
   "metadata": {},
   "outputs": [],
   "source": [
    "regressor_lasso = Lasso(alpha=0.0006, random_state=42, max_iter=10000)"
   ]
  },
  {
   "cell_type": "code",
   "execution_count": 113,
   "metadata": {
    "scrolled": true
   },
   "outputs": [
    {
     "data": {
      "text/html": [
       "<div>\n",
       "<style scoped>\n",
       "    .dataframe tbody tr th:only-of-type {\n",
       "        vertical-align: middle;\n",
       "    }\n",
       "\n",
       "    .dataframe tbody tr th {\n",
       "        vertical-align: top;\n",
       "    }\n",
       "\n",
       "    .dataframe thead th {\n",
       "        text-align: right;\n",
       "    }\n",
       "</style>\n",
       "<table border=\"1\" class=\"dataframe\">\n",
       "  <thead>\n",
       "    <tr style=\"text-align: right;\">\n",
       "      <th></th>\n",
       "      <th>Comments</th>\n",
       "      <th>Model</th>\n",
       "      <th>Parameters</th>\n",
       "      <th>Test_RMSE</th>\n",
       "      <th>Train_RMSE</th>\n",
       "    </tr>\n",
       "  </thead>\n",
       "  <tbody>\n",
       "    <tr>\n",
       "      <td>0</td>\n",
       "      <td>Lasso Model output</td>\n",
       "      <td>Lasso</td>\n",
       "      <td>NaN</td>\n",
       "      <td>0.121266</td>\n",
       "      <td>0.110868</td>\n",
       "    </tr>\n",
       "    <tr>\n",
       "      <td>1</td>\n",
       "      <td>Lasso Model output</td>\n",
       "      <td>Lasso</td>\n",
       "      <td>NaN</td>\n",
       "      <td>0.121266</td>\n",
       "      <td>0.110868</td>\n",
       "    </tr>\n",
       "    <tr>\n",
       "      <td>2</td>\n",
       "      <td>Lasso Model output</td>\n",
       "      <td>Lasso</td>\n",
       "      <td>NaN</td>\n",
       "      <td>0.121266</td>\n",
       "      <td>0.110868</td>\n",
       "    </tr>\n",
       "    <tr>\n",
       "      <td>3</td>\n",
       "      <td>Lasso Model output</td>\n",
       "      <td>Lasso</td>\n",
       "      <td>{'alpha': 0.0005, 'copy_X': True, 'fit_interce...</td>\n",
       "      <td>0.121266</td>\n",
       "      <td>0.110868</td>\n",
       "    </tr>\n",
       "    <tr>\n",
       "      <td>4</td>\n",
       "      <td>Basic, without scaling.</td>\n",
       "      <td>Ridge</td>\n",
       "      <td>{'alpha': 10, 'copy_X': True, 'fit_intercept':...</td>\n",
       "      <td>0.121044</td>\n",
       "      <td>0.111339</td>\n",
       "    </tr>\n",
       "    <tr>\n",
       "      <td>5</td>\n",
       "      <td>Lasso Model output</td>\n",
       "      <td>Lasso</td>\n",
       "      <td>{'alpha': 0.0006, 'copy_X': True, 'fit_interce...</td>\n",
       "      <td>0.121456</td>\n",
       "      <td>0.110977</td>\n",
       "    </tr>\n",
       "  </tbody>\n",
       "</table>\n",
       "</div>"
      ],
      "text/plain": [
       "                  Comments  Model  \\\n",
       "0       Lasso Model output  Lasso   \n",
       "1       Lasso Model output  Lasso   \n",
       "2       Lasso Model output  Lasso   \n",
       "3       Lasso Model output  Lasso   \n",
       "4  Basic, without scaling.  Ridge   \n",
       "5       Lasso Model output  Lasso   \n",
       "\n",
       "                                          Parameters  Test_RMSE  Train_RMSE  \n",
       "0                                                NaN   0.121266    0.110868  \n",
       "1                                                NaN   0.121266    0.110868  \n",
       "2                                                NaN   0.121266    0.110868  \n",
       "3  {'alpha': 0.0005, 'copy_X': True, 'fit_interce...   0.121266    0.110868  \n",
       "4  {'alpha': 10, 'copy_X': True, 'fit_intercept':...   0.121044    0.111339  \n",
       "5  {'alpha': 0.0006, 'copy_X': True, 'fit_interce...   0.121456    0.110977  "
      ]
     },
     "execution_count": 113,
     "metadata": {},
     "output_type": "execute_result"
    }
   ],
   "source": [
    "df_model = calc_rmse(regressor_lasso,df_model, comments='Lasso Model output')\n",
    "df_model"
   ]
  },
  {
   "cell_type": "code",
   "execution_count": 94,
   "metadata": {},
   "outputs": [],
   "source": [
    "pred_lasso_before_scaling = regressor_lasso.predict(test_set)"
   ]
  },
  {
   "cell_type": "code",
   "execution_count": null,
   "metadata": {},
   "outputs": [],
   "source": []
  },
  {
   "cell_type": "markdown",
   "metadata": {},
   "source": [
    "### Building Ridge Model"
   ]
  },
  {
   "cell_type": "code",
   "execution_count": 114,
   "metadata": {},
   "outputs": [],
   "source": [
    "rcv = RidgeCV(alphas=alphas, scoring='neg_mean_squared_error', cv=cross_val)"
   ]
  },
  {
   "cell_type": "code",
   "execution_count": 115,
   "metadata": {},
   "outputs": [
    {
     "data": {
      "text/plain": [
       "RidgeCV(alphas=array([1.e-04, 3.e-04, 6.e-04, 1.e-03, 3.e-03, 6.e-03, 1.e-02, 3.e-02,\n",
       "       6.e-02, 1.e-01, 3.e-01, 6.e-01, 1.e+00, 2.e+00, 1.e+01, 2.e+01,\n",
       "       5.e+01]),\n",
       "        cv=KFold(n_splits=10, random_state=42, shuffle=True),\n",
       "        fit_intercept=True, gcv_mode=None, normalize=False,\n",
       "        scoring='neg_mean_squared_error', store_cv_values=False)"
      ]
     },
     "execution_count": 115,
     "metadata": {},
     "output_type": "execute_result"
    }
   ],
   "source": [
    "rcv.fit(X_train, y_train)"
   ]
  },
  {
   "cell_type": "code",
   "execution_count": 116,
   "metadata": {},
   "outputs": [
    {
     "data": {
      "text/plain": [
       "10.0"
      ]
     },
     "execution_count": 116,
     "metadata": {},
     "output_type": "execute_result"
    }
   ],
   "source": [
    "rcv.alpha_"
   ]
  },
  {
   "cell_type": "code",
   "execution_count": 117,
   "metadata": {},
   "outputs": [],
   "source": [
    "regressor_ridge = Ridge(alpha=10, random_state=42, max_iter=10000)"
   ]
  },
  {
   "cell_type": "code",
   "execution_count": 120,
   "metadata": {
    "scrolled": true
   },
   "outputs": [
    {
     "data": {
      "text/html": [
       "<div>\n",
       "<style scoped>\n",
       "    .dataframe tbody tr th:only-of-type {\n",
       "        vertical-align: middle;\n",
       "    }\n",
       "\n",
       "    .dataframe tbody tr th {\n",
       "        vertical-align: top;\n",
       "    }\n",
       "\n",
       "    .dataframe thead th {\n",
       "        text-align: right;\n",
       "    }\n",
       "</style>\n",
       "<table border=\"1\" class=\"dataframe\">\n",
       "  <thead>\n",
       "    <tr style=\"text-align: right;\">\n",
       "      <th></th>\n",
       "      <th>Comments</th>\n",
       "      <th>Model</th>\n",
       "      <th>Parameters</th>\n",
       "      <th>Test_RMSE</th>\n",
       "      <th>Train_RMSE</th>\n",
       "    </tr>\n",
       "  </thead>\n",
       "  <tbody>\n",
       "    <tr>\n",
       "      <td>0</td>\n",
       "      <td>Lasso Model output</td>\n",
       "      <td>Lasso</td>\n",
       "      <td>NaN</td>\n",
       "      <td>0.121266</td>\n",
       "      <td>0.110868</td>\n",
       "    </tr>\n",
       "    <tr>\n",
       "      <td>1</td>\n",
       "      <td>Lasso Model output</td>\n",
       "      <td>Lasso</td>\n",
       "      <td>NaN</td>\n",
       "      <td>0.121266</td>\n",
       "      <td>0.110868</td>\n",
       "    </tr>\n",
       "    <tr>\n",
       "      <td>2</td>\n",
       "      <td>Lasso Model output</td>\n",
       "      <td>Lasso</td>\n",
       "      <td>NaN</td>\n",
       "      <td>0.121266</td>\n",
       "      <td>0.110868</td>\n",
       "    </tr>\n",
       "    <tr>\n",
       "      <td>3</td>\n",
       "      <td>Lasso Model output</td>\n",
       "      <td>Lasso</td>\n",
       "      <td>{'alpha': 0.0005, 'copy_X': True, 'fit_interce...</td>\n",
       "      <td>0.121266</td>\n",
       "      <td>0.110868</td>\n",
       "    </tr>\n",
       "    <tr>\n",
       "      <td>4</td>\n",
       "      <td>Basic, with scaling.</td>\n",
       "      <td>Ridge</td>\n",
       "      <td>{'alpha': 10, 'copy_X': True, 'fit_intercept':...</td>\n",
       "      <td>0.121044</td>\n",
       "      <td>0.111339</td>\n",
       "    </tr>\n",
       "    <tr>\n",
       "      <td>5</td>\n",
       "      <td>Basic, with scaling.</td>\n",
       "      <td>Ridge</td>\n",
       "      <td>{'alpha': 10, 'copy_X': True, 'fit_intercept':...</td>\n",
       "      <td>0.121044</td>\n",
       "      <td>0.111339</td>\n",
       "    </tr>\n",
       "  </tbody>\n",
       "</table>\n",
       "</div>"
      ],
      "text/plain": [
       "               Comments  Model  \\\n",
       "0    Lasso Model output  Lasso   \n",
       "1    Lasso Model output  Lasso   \n",
       "2    Lasso Model output  Lasso   \n",
       "3    Lasso Model output  Lasso   \n",
       "4  Basic, with scaling.  Ridge   \n",
       "5  Basic, with scaling.  Ridge   \n",
       "\n",
       "                                          Parameters  Test_RMSE  Train_RMSE  \n",
       "0                                                NaN   0.121266    0.110868  \n",
       "1                                                NaN   0.121266    0.110868  \n",
       "2                                                NaN   0.121266    0.110868  \n",
       "3  {'alpha': 0.0005, 'copy_X': True, 'fit_interce...   0.121266    0.110868  \n",
       "4  {'alpha': 10, 'copy_X': True, 'fit_intercept':...   0.121044    0.111339  \n",
       "5  {'alpha': 10, 'copy_X': True, 'fit_intercept':...   0.121044    0.111339  "
      ]
     },
     "execution_count": 120,
     "metadata": {},
     "output_type": "execute_result"
    }
   ],
   "source": [
    "df_model = calc_rmse(regressor_ridge,df_model, comments='Basic, with scaling.')\n",
    "df_model"
   ]
  },
  {
   "cell_type": "markdown",
   "metadata": {},
   "source": [
    "### Constructing Model without Train Test Split"
   ]
  },
  {
   "cell_type": "code",
   "execution_count": 121,
   "metadata": {},
   "outputs": [
    {
     "data": {
      "text/plain": [
       "(1456, 231)"
      ]
     },
     "execution_count": 121,
     "metadata": {},
     "output_type": "execute_result"
    }
   ],
   "source": [
    "df_train.shape"
   ]
  },
  {
   "cell_type": "code",
   "execution_count": 122,
   "metadata": {},
   "outputs": [
    {
     "data": {
      "text/plain": [
       "(1459, 231)"
      ]
     },
     "execution_count": 122,
     "metadata": {},
     "output_type": "execute_result"
    }
   ],
   "source": [
    "df_test.shape"
   ]
  },
  {
   "cell_type": "code",
   "execution_count": 125,
   "metadata": {},
   "outputs": [
    {
     "data": {
      "text/plain": [
       "(1456,)"
      ]
     },
     "execution_count": 125,
     "metadata": {},
     "output_type": "execute_result"
    }
   ],
   "source": [
    "target.shape"
   ]
  },
  {
   "cell_type": "code",
   "execution_count": 126,
   "metadata": {},
   "outputs": [],
   "source": [
    "df_tr = df_train.values\n",
    "df_ts = df_test.values"
   ]
  },
  {
   "cell_type": "code",
   "execution_count": 132,
   "metadata": {},
   "outputs": [
    {
     "name": "stdout",
     "output_type": "stream",
     "text": [
      "Train RMSE for Lasso: 0.1125933908357178\n"
     ]
    }
   ],
   "source": [
    "print('Train RMSE for Lasso:', (np.sqrt(-cross_val_score(regressor_lasso, df_tr, target, cv=cross_val, \n",
    "                                                         scoring='neg_mean_squared_error', n_jobs=-1))).mean())"
   ]
  },
  {
   "cell_type": "code",
   "execution_count": 133,
   "metadata": {},
   "outputs": [
    {
     "name": "stdout",
     "output_type": "stream",
     "text": [
      "Train RMSE for Ridge: 0.11189220345799215\n"
     ]
    }
   ],
   "source": [
    "print('Train RMSE for Ridge:', (np.sqrt(-cross_val_score(regressor_ridge, df_tr, target, cv=cross_val,\n",
    "                                                        scoring = 'neg_mean_squared_error', n_jobs=-1))).mean())"
   ]
  },
  {
   "cell_type": "code",
   "execution_count": 127,
   "metadata": {},
   "outputs": [
    {
     "data": {
      "text/plain": [
       "Ridge(alpha=10, copy_X=True, fit_intercept=True, max_iter=10000,\n",
       "      normalize=False, random_state=42, solver='auto', tol=0.001)"
      ]
     },
     "execution_count": 127,
     "metadata": {},
     "output_type": "execute_result"
    }
   ],
   "source": [
    "#Fit the model\n",
    "regressor_lasso.fit(df_tr, target)\n",
    "regressor_ridge.fit(df_tr, target)"
   ]
  },
  {
   "cell_type": "code",
   "execution_count": 128,
   "metadata": {},
   "outputs": [],
   "source": [
    "#Make Prediction\n",
    "pred_l = regressor_lasso.predict(df_tr)\n",
    "pred_r = regressor_ridge.predict(df_tr)"
   ]
  },
  {
   "cell_type": "code",
   "execution_count": 129,
   "metadata": {},
   "outputs": [
    {
     "name": "stdout",
     "output_type": "stream",
     "text": [
      "RMSE Lasso:  0.10444527149794339\n",
      "RMSE Ridge:  0.09888228539695718\n"
     ]
    }
   ],
   "source": [
    "print('RMSE Lasso: ', np.sqrt(mean_squared_error(target, pred_l)))\n",
    "print('RMSE Ridge: ', np.sqrt(mean_squared_error(target, pred_r)))"
   ]
  },
  {
   "cell_type": "code",
   "execution_count": 131,
   "metadata": {},
   "outputs": [
    {
     "name": "stdout",
     "output_type": "stream",
     "text": [
      "RMSE Combined: 0.1000740636112327\n"
     ]
    }
   ],
   "source": [
    "pred_c = pred_l*0.3 + pred_r*0.7\n",
    "print('RMSE Combined:', np.sqrt(mean_squared_error(target, pred_c)))"
   ]
  },
  {
   "cell_type": "code",
   "execution_count": 55,
   "metadata": {},
   "outputs": [],
   "source": [
    "nf = [col for col in num_feats if col not in 'TotalSF']\n",
    "nf.append('SalePrice')"
   ]
  },
  {
   "cell_type": "code",
   "execution_count": 56,
   "metadata": {},
   "outputs": [
    {
     "data": {
      "image/png": "[encoded data removed]",
      "text/plain": [
       "<Figure size 1368x72 with 2 Axes>"
      ]
     },
     "metadata": {
      "needs_background": "light"
     },
     "output_type": "display_data"
    }
   ],
   "source": [
    "numcorr = df_train_copy[nf].corr()\n",
    "\n",
    "plt.figure(figsize=(19,1))\n",
    "sb.heatmap(numcorr.sort_values(by='SalePrice').tail(1), annot=True, fmt='.2f', cmap='RdYlGn')\n",
    "plt.show();"
   ]
  },
  {
   "cell_type": "code",
   "execution_count": 71,
   "metadata": {},
   "outputs": [
    {
     "data": {
      "text/html": [
       "<div>\n",
       "<style scoped>\n",
       "    .dataframe tbody tr th:only-of-type {\n",
       "        vertical-align: middle;\n",
       "    }\n",
       "\n",
       "    .dataframe tbody tr th {\n",
       "        vertical-align: top;\n",
       "    }\n",
       "\n",
       "    .dataframe thead th {\n",
       "        text-align: right;\n",
       "    }\n",
       "</style>\n",
       "<table border=\"1\" class=\"dataframe\">\n",
       "  <thead>\n",
       "    <tr style=\"text-align: right;\">\n",
       "      <th></th>\n",
       "      <th>SalePrice</th>\n",
       "      <th>OverallQual</th>\n",
       "      <th>GrLivArea</th>\n",
       "      <th>GarageCars</th>\n",
       "      <th>GarageArea</th>\n",
       "      <th>FullBath</th>\n",
       "      <th>TotRmsAbvGrd</th>\n",
       "      <th>YearBuilt</th>\n",
       "      <th>YearRemodAdd</th>\n",
       "      <th>GarageYrBlt</th>\n",
       "      <th>MasVnrArea</th>\n",
       "      <th>Fireplaces</th>\n",
       "      <th>BsmtFinSF1</th>\n",
       "      <th>WoodDeckSF</th>\n",
       "      <th>OpenPorchSF</th>\n",
       "      <th>HalfBath</th>\n",
       "      <th>LotArea</th>\n",
       "      <th>BsmtFullBath</th>\n",
       "      <th>BsmtUnfSF</th>\n",
       "      <th>BedroomAbvGr</th>\n",
       "    </tr>\n",
       "  </thead>\n",
       "  <tbody>\n",
       "    <tr>\n",
       "      <td>SalePrice</td>\n",
       "      <td>1.0</td>\n",
       "      <td>0.790982</td>\n",
       "      <td>0.708624</td>\n",
       "      <td>0.640409</td>\n",
       "      <td>0.623431</td>\n",
       "      <td>0.560664</td>\n",
       "      <td>0.533723</td>\n",
       "      <td>0.522897</td>\n",
       "      <td>0.507101</td>\n",
       "      <td>0.486362</td>\n",
       "      <td>0.477493</td>\n",
       "      <td>0.466929</td>\n",
       "      <td>0.38642</td>\n",
       "      <td>0.324413</td>\n",
       "      <td>0.315856</td>\n",
       "      <td>0.284108</td>\n",
       "      <td>0.263843</td>\n",
       "      <td>0.227122</td>\n",
       "      <td>0.214479</td>\n",
       "      <td>0.168213</td>\n",
       "    </tr>\n",
       "  </tbody>\n",
       "</table>\n",
       "</div>"
      ],
      "text/plain": [
       "           SalePrice  OverallQual  GrLivArea  GarageCars  GarageArea  \\\n",
       "SalePrice        1.0     0.790982   0.708624    0.640409    0.623431   \n",
       "\n",
       "           FullBath  TotRmsAbvGrd  YearBuilt  YearRemodAdd  GarageYrBlt  \\\n",
       "SalePrice  0.560664      0.533723   0.522897      0.507101     0.486362   \n",
       "\n",
       "           MasVnrArea  Fireplaces  BsmtFinSF1  WoodDeckSF  OpenPorchSF  \\\n",
       "SalePrice    0.477493    0.466929     0.38642    0.324413     0.315856   \n",
       "\n",
       "           HalfBath   LotArea  BsmtFullBath  BsmtUnfSF  BedroomAbvGr  \n",
       "SalePrice  0.284108  0.263843      0.227122   0.214479      0.168213  "
      ]
     },
     "execution_count": 71,
     "metadata": {},
     "output_type": "execute_result"
    }
   ],
   "source": [
    "nc = numcorr['SalePrice'].sort_values(ascending=False).head(20).to_frame().T\n",
    "nc"
   ]
  },
  {
   "cell_type": "code",
   "execution_count": 72,
   "metadata": {},
   "outputs": [
    {
     "data": {
      "text/html": [
       "<style  type=\"text/css\" >\n",
       "    #T_28ffa17a_014b_11ea_90c3_005056b46cf2row0_col0 {\n",
       "            background-color:  #e5ffff;\n",
       "            color:  #000000;\n",
       "        }    #T_28ffa17a_014b_11ea_90c3_005056b46cf2row0_col1 {\n",
       "            background-color:  #e5ffff;\n",
       "            color:  #000000;\n",
       "        }    #T_28ffa17a_014b_11ea_90c3_005056b46cf2row0_col2 {\n",
       "            background-color:  #e5ffff;\n",
       "            color:  #000000;\n",
       "        }    #T_28ffa17a_014b_11ea_90c3_005056b46cf2row0_col3 {\n",
       "            background-color:  #e5ffff;\n",
       "            color:  #000000;\n",
       "        }    #T_28ffa17a_014b_11ea_90c3_005056b46cf2row0_col4 {\n",
       "            background-color:  #e5ffff;\n",
       "            color:  #000000;\n",
       "        }    #T_28ffa17a_014b_11ea_90c3_005056b46cf2row0_col5 {\n",
       "            background-color:  #e5ffff;\n",
       "            color:  #000000;\n",
       "        }    #T_28ffa17a_014b_11ea_90c3_005056b46cf2row0_col6 {\n",
       "            background-color:  #e5ffff;\n",
       "            color:  #000000;\n",
       "        }    #T_28ffa17a_014b_11ea_90c3_005056b46cf2row0_col7 {\n",
       "            background-color:  #e5ffff;\n",
       "            color:  #000000;\n",
       "        }    #T_28ffa17a_014b_11ea_90c3_005056b46cf2row0_col8 {\n",
       "            background-color:  #e5ffff;\n",
       "            color:  #000000;\n",
       "        }    #T_28ffa17a_014b_11ea_90c3_005056b46cf2row0_col9 {\n",
       "            background-color:  #e5ffff;\n",
       "            color:  #000000;\n",
       "        }    #T_28ffa17a_014b_11ea_90c3_005056b46cf2row0_col10 {\n",
       "            background-color:  #e5ffff;\n",
       "            color:  #000000;\n",
       "        }    #T_28ffa17a_014b_11ea_90c3_005056b46cf2row0_col11 {\n",
       "            background-color:  #e5ffff;\n",
       "            color:  #000000;\n",
       "        }    #T_28ffa17a_014b_11ea_90c3_005056b46cf2row0_col12 {\n",
       "            background-color:  #e5ffff;\n",
       "            color:  #000000;\n",
       "        }    #T_28ffa17a_014b_11ea_90c3_005056b46cf2row0_col13 {\n",
       "            background-color:  #e5ffff;\n",
       "            color:  #000000;\n",
       "        }    #T_28ffa17a_014b_11ea_90c3_005056b46cf2row0_col14 {\n",
       "            background-color:  #e5ffff;\n",
       "            color:  #000000;\n",
       "        }    #T_28ffa17a_014b_11ea_90c3_005056b46cf2row0_col15 {\n",
       "            background-color:  #e5ffff;\n",
       "            color:  #000000;\n",
       "        }    #T_28ffa17a_014b_11ea_90c3_005056b46cf2row0_col16 {\n",
       "            background-color:  #e5ffff;\n",
       "            color:  #000000;\n",
       "        }    #T_28ffa17a_014b_11ea_90c3_005056b46cf2row0_col17 {\n",
       "            background-color:  #e5ffff;\n",
       "            color:  #000000;\n",
       "        }    #T_28ffa17a_014b_11ea_90c3_005056b46cf2row0_col18 {\n",
       "            background-color:  #e5ffff;\n",
       "            color:  #000000;\n",
       "        }    #T_28ffa17a_014b_11ea_90c3_005056b46cf2row0_col19 {\n",
       "            background-color:  #e5ffff;\n",
       "            color:  #000000;\n",
       "        }</style><table id=\"T_28ffa17a_014b_11ea_90c3_005056b46cf2\" ><thead>    <tr>        <th class=\"blank level0\" ></th>        <th class=\"col_heading level0 col0\" >SalePrice</th>        <th class=\"col_heading level0 col1\" >OverallQual</th>        <th class=\"col_heading level0 col2\" >GrLivArea</th>        <th class=\"col_heading level0 col3\" >GarageCars</th>        <th class=\"col_heading level0 col4\" >GarageArea</th>        <th class=\"col_heading level0 col5\" >FullBath</th>        <th class=\"col_heading level0 col6\" >TotRmsAbvGrd</th>        <th class=\"col_heading level0 col7\" >YearBuilt</th>        <th class=\"col_heading level0 col8\" >YearRemodAdd</th>        <th class=\"col_heading level0 col9\" >GarageYrBlt</th>        <th class=\"col_heading level0 col10\" >MasVnrArea</th>        <th class=\"col_heading level0 col11\" >Fireplaces</th>        <th class=\"col_heading level0 col12\" >BsmtFinSF1</th>        <th class=\"col_heading level0 col13\" >WoodDeckSF</th>        <th class=\"col_heading level0 col14\" >OpenPorchSF</th>        <th class=\"col_heading level0 col15\" >HalfBath</th>        <th class=\"col_heading level0 col16\" >LotArea</th>        <th class=\"col_heading level0 col17\" >BsmtFullBath</th>        <th class=\"col_heading level0 col18\" >BsmtUnfSF</th>        <th class=\"col_heading level0 col19\" >BedroomAbvGr</th>    </tr></thead><tbody>\n",
       "                <tr>\n",
       "                        <th id=\"T_28ffa17a_014b_11ea_90c3_005056b46cf2level0_row0\" class=\"row_heading level0 row0\" >SalePrice</th>\n",
       "                        <td id=\"T_28ffa17a_014b_11ea_90c3_005056b46cf2row0_col0\" class=\"data row0 col0\" >1</td>\n",
       "                        <td id=\"T_28ffa17a_014b_11ea_90c3_005056b46cf2row0_col1\" class=\"data row0 col1\" >0.790982</td>\n",
       "                        <td id=\"T_28ffa17a_014b_11ea_90c3_005056b46cf2row0_col2\" class=\"data row0 col2\" >0.708624</td>\n",
       "                        <td id=\"T_28ffa17a_014b_11ea_90c3_005056b46cf2row0_col3\" class=\"data row0 col3\" >0.640409</td>\n",
       "                        <td id=\"T_28ffa17a_014b_11ea_90c3_005056b46cf2row0_col4\" class=\"data row0 col4\" >0.623431</td>\n",
       "                        <td id=\"T_28ffa17a_014b_11ea_90c3_005056b46cf2row0_col5\" class=\"data row0 col5\" >0.560664</td>\n",
       "                        <td id=\"T_28ffa17a_014b_11ea_90c3_005056b46cf2row0_col6\" class=\"data row0 col6\" >0.533723</td>\n",
       "                        <td id=\"T_28ffa17a_014b_11ea_90c3_005056b46cf2row0_col7\" class=\"data row0 col7\" >0.522897</td>\n",
       "                        <td id=\"T_28ffa17a_014b_11ea_90c3_005056b46cf2row0_col8\" class=\"data row0 col8\" >0.507101</td>\n",
       "                        <td id=\"T_28ffa17a_014b_11ea_90c3_005056b46cf2row0_col9\" class=\"data row0 col9\" >0.486362</td>\n",
       "                        <td id=\"T_28ffa17a_014b_11ea_90c3_005056b46cf2row0_col10\" class=\"data row0 col10\" >0.477493</td>\n",
       "                        <td id=\"T_28ffa17a_014b_11ea_90c3_005056b46cf2row0_col11\" class=\"data row0 col11\" >0.466929</td>\n",
       "                        <td id=\"T_28ffa17a_014b_11ea_90c3_005056b46cf2row0_col12\" class=\"data row0 col12\" >0.38642</td>\n",
       "                        <td id=\"T_28ffa17a_014b_11ea_90c3_005056b46cf2row0_col13\" class=\"data row0 col13\" >0.324413</td>\n",
       "                        <td id=\"T_28ffa17a_014b_11ea_90c3_005056b46cf2row0_col14\" class=\"data row0 col14\" >0.315856</td>\n",
       "                        <td id=\"T_28ffa17a_014b_11ea_90c3_005056b46cf2row0_col15\" class=\"data row0 col15\" >0.284108</td>\n",
       "                        <td id=\"T_28ffa17a_014b_11ea_90c3_005056b46cf2row0_col16\" class=\"data row0 col16\" >0.263843</td>\n",
       "                        <td id=\"T_28ffa17a_014b_11ea_90c3_005056b46cf2row0_col17\" class=\"data row0 col17\" >0.227122</td>\n",
       "                        <td id=\"T_28ffa17a_014b_11ea_90c3_005056b46cf2row0_col18\" class=\"data row0 col18\" >0.214479</td>\n",
       "                        <td id=\"T_28ffa17a_014b_11ea_90c3_005056b46cf2row0_col19\" class=\"data row0 col19\" >0.168213</td>\n",
       "            </tr>\n",
       "    </tbody></table>"
      ],
      "text/plain": [
       "<pandas.io.formats.style.Styler at 0x2c5848eaf28>"
      ]
     },
     "execution_count": 72,
     "metadata": {},
     "output_type": "execute_result"
    }
   ],
   "source": [
    "cm = sb.light_palette('cyan', as_cmap=True)\n",
    "nc = nc.style.background_gradient(cmap=cm)\n",
    "nc"
   ]
  },
  {
   "cell_type": "code",
   "execution_count": 76,
   "metadata": {},
   "outputs": [
    {
     "data": {
      "text/plain": [
       "<matplotlib.axes._subplots.AxesSubplot at 0x2c58736d278>"
      ]
     },
     "execution_count": 76,
     "metadata": {},
     "output_type": "execute_result"
    },
    {
     "data": {
      "image/png": "[encoded data removed]",
      "text/plain": [
       "<Figure size 1440x720 with 2 Axes>"
      ]
     },
     "metadata": {
      "needs_background": "light"
     },
     "output_type": "display_data"
    }
   ],
   "source": [
    "## Plot sizing. \n",
    "fig, (ax1, ax2) = plt.subplots(figsize = (20,10), ncols=2,sharey=False)\n",
    "ax2"
   ]
  },
  {
   "cell_type": "markdown",
   "metadata": {},
   "source": [
    "---"
   ]
  },
  {
   "cell_type": "markdown",
   "metadata": {},
   "source": [
    "## Appendix"
   ]
  },
  {
   "cell_type": "code",
   "execution_count": null,
   "metadata": {},
   "outputs": [],
   "source": [
    "def rmse_train(df_model, model, x, y, comments='Comments'):\n",
    "    \n",
    "    rmse = np.sqrt(-cross_val_score(model, x, y, cv=cross_val, scoring='neg_mean_squared_error', n_jobs=-1))\n",
    "    rmse = rmse.mean()\n",
    "    \n",
    "    #Create dictionary\n",
    "    dict_score = {}\n",
    "    dict_score['Model'] = model.__class__.__name__\n",
    "    dict_score['Train_RMSE'] = rmse\n",
    "    dict_score['Test_RMSE'] = 'NA'\n",
    "    dict_score['Comments'] = comments\n",
    "    \n",
    "    #Create dataframe with values\n",
    "    df_temp = pd.DataFrame(dict_score, index=[0])\n",
    "    \n",
    "    #Append dataframe\n",
    "    df_model = df_model.append(df_temp)\n",
    "    df_model = df_model.reset_index(drop=True)\n",
    "    \n",
    "    return df_model"
   ]
  }
 ],
 "metadata": {
  "kernelspec": {
   "display_name": "Python 3",
   "language": "python",
   "name": "python3"
  },
  "language_info": {
   "codemirror_mode": {
    "name": "ipython",
    "version": 3
   },
   "file_extension": ".py",
   "mimetype": "text/x-python",
   "name": "python",
   "nbconvert_exporter": "python",
   "pygments_lexer": "ipython3",
   "version": "3.7.1"
  }
 },
 "nbformat": 4,
 "nbformat_minor": 2
}
